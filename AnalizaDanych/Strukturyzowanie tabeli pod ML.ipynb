{
 "cells": [
  {
   "cell_type": "code",
   "execution_count": 1,
   "metadata": {},
   "outputs": [],
   "source": [
    "import pyspark\n",
    "from pyspark import SparkContext, SparkConf\n",
    "from pyspark.sql import SQLContext\n",
    "from pyspark.sql import Row\n",
    "from pyspark import SparkContext, SparkConf\n",
    "from pyspark.sql.functions import udf\n",
    "from pyspark.sql.types import IntegerType, StringType\n",
    "import pyspark.sql.functions as F\n",
    "import json\n",
    "import itertools\n",
    "\n",
    "conf = SparkConf().setAppName('MyFirstStandaloneApp')\n",
    "sc = SparkContext(conf=conf)\n",
    "sc.setLogLevel(\"ERROR\")"
   ]
  },
  {
   "cell_type": "code",
   "execution_count": 2,
   "metadata": {},
   "outputs": [],
   "source": [
    "def scrap_time_change(t : str):\n",
    "    return int(t.split(':')[0])\n",
    "\n",
    "def flights_hours_change(t : str):\n",
    "    tt = scrap_time_change(t)\n",
    "    if (tt < 6):\n",
    "        return 'night'\n",
    "    elif (tt < 12):\n",
    "        return 'morning'\n",
    "    elif (tt < 18):\n",
    "        return 'afternoon'\n",
    "    elif (tt < 24):\n",
    "        return 'evening'"
   ]
  },
  {
   "cell_type": "code",
   "execution_count": 82,
   "metadata": {},
   "outputs": [],
   "source": [
    "filepath = \"2019-05-15.txt,2019-05-16.txt,2019-05-17.txt,2019-05-18.txt,2019-05-19.txt\"\n",
    "\n",
    "country_from = 'Austria'\n",
    "country_to = 'Italy'\n",
    "\n",
    "flightsRDD = sc.textFile(filepath)\n",
    "header = flightsRDD.first()\n",
    "filtered = flightsRDD.filter(lambda line: line != header)\n",
    "#filtered = filtered.filter(lambda line : (line.split(';')[2] == country_from) & (line.split(';')[3] == country_to))\n",
    "parts = filtered.map(lambda line: line.split(';'))\n",
    "\n",
    "\n",
    "flights = parts.map(lambda p:\n",
    "                   Row(Scrap_date = p[0],\n",
    "                       Scrap_time = scrap_time_change(p[1]),\n",
    "                       Country_from = p[2],\n",
    "                       Country_to = p[3],\n",
    "                       Flight_id = int(p[4]),\n",
    "                       There_or_Back = p[5],\n",
    "                       Flight_date = p[6],\n",
    "                       Airline = p[7],\n",
    "                       Change = int(p[8]),\n",
    "                       Price = float(p[9]),\n",
    "                       Depart_hour = flights_hours_change(p[10]),\n",
    "                       Depart_from = p[11],\n",
    "                       Arrival_hour = flights_hours_change(p[12]),\n",
    "                       Arrive_to = p[13]\n",
    "                      ))\n",
    "\n",
    "sqlContext = SQLContext(sc)\n",
    "dt = sqlContext.createDataFrame(flights)\n",
    "dt.registerTempTable(\"flights\")\n",
    "\n",
    "timeFmt1 = \"yyyy-MM-dd\"\n",
    "timeFmt2 = \"dd/MM/yy\"\n",
    "timeDiff = ((F.unix_timestamp('Flight_date', format=timeFmt2)\n",
    "            - F.unix_timestamp('Scrap_date', format=timeFmt1)) / (24 * 3600)).cast(IntegerType())\n",
    "dt = dt.withColumn(\"Days\", timeDiff)\n",
    "\n",
    "tt = (F.unix_timestamp('Flight_date', format=timeFmt2) / (24 * 3600)).cast(IntegerType())\n",
    "dt = dt.withColumn(\"Flight_date_val\", tt)\n",
    "#dt = dt.drop(*['Flight_date', 'Scrap_date'])\n",
    "df = dt"
   ]
  },
  {
   "cell_type": "markdown",
   "metadata": {},
   "source": [
    "Tutaj, chce porownac jaka tabele co jest wyswietlana z tabela df. Tak, że jezeli \"Scrap_date\", \"Scrap_time\", \"Flight_id\", \"There_or_back\" w temp są takie same jak w df to wtedy do df w tym miejscu jest dodawana count w nowej kolumnie"
   ]
  },
  {
   "cell_type": "code",
   "execution_count": 80,
   "metadata": {
    "scrolled": true
   },
   "outputs": [
    {
     "name": "stdout",
     "output_type": "stream",
     "text": [
      "+----------+----------+---------+-------------+-----+\n",
      "|Scrap_date|Scrap_time|Flight_id|There_or_back|count|\n",
      "+----------+----------+---------+-------------+-----+\n",
      "|2019-05-15|         2|        1|         Back|    2|\n",
      "|2019-05-15|         2|        1|        There|    2|\n",
      "|2019-05-15|         2|        2|         Back|    2|\n",
      "|2019-05-15|         2|        2|        There|    2|\n",
      "|2019-05-15|         2|        3|         Back|    2|\n",
      "|2019-05-15|         2|        3|        There|    2|\n",
      "|2019-05-15|         2|        4|         Back|    2|\n",
      "|2019-05-15|         2|        4|        There|    2|\n",
      "|2019-05-15|         2|        5|         Back|    2|\n",
      "|2019-05-15|         2|        5|        There|    2|\n",
      "|2019-05-15|         2|        6|         Back|    2|\n",
      "|2019-05-15|         2|        6|        There|    2|\n",
      "|2019-05-15|         2|        7|         Back|    2|\n",
      "|2019-05-15|         2|        7|        There|    2|\n",
      "|2019-05-15|         2|        8|         Back|    2|\n",
      "|2019-05-15|         2|        8|        There|    2|\n",
      "|2019-05-15|         2|        9|         Back|    2|\n",
      "|2019-05-15|         2|        9|        There|    2|\n",
      "|2019-05-15|         2|       10|         Back|    2|\n",
      "|2019-05-15|         2|       10|        There|    2|\n",
      "+----------+----------+---------+-------------+-----+\n",
      "only showing top 20 rows\n",
      "\n"
     ]
    }
   ],
   "source": [
    "temp = df.groupBy([\"Scrap_date\", \"Scrap_time\", \"Flight_id\", \"There_or_back\"]).count().orderBy(\n",
    "[\"Scrap_date\", \"Scrap_time\", \"Flight_id\", \"There_or_back\"]).show()\n",
    "#df = df.withColumn('Change_temp', F.lit(0))\n",
    "#df = df.agg(F.sum(df.Price).alias(\"Price_sum\"))\n",
    "#df.show()"
   ]
  },
  {
   "cell_type": "markdown",
   "metadata": {},
   "source": [
    "Poniższa komórka nie działa, zadziała, kiedy do df dodamy kolumnę df, która będzie mówiła o przesiadce w danej grupie There / Back"
   ]
  },
  {
   "cell_type": "code",
   "execution_count": null,
   "metadata": {},
   "outputs": [],
   "source": [
    "dff = df.groupBy([\"Scrap_date\", \"Scrap_time\", \"Flight_id\", \"There_or_back\"]).agg(\n",
    "    F.first(df.Days).alias(\"Days\"),\n",
    "    F.first(df.Flight_date_val).alias(\"Flight_date_val\"), #Z tego co widzialem to przesiadki sa tego samego dnia\n",
    "    F.first(df.Airline).alias('Airline1'),\n",
    "    F.when(F.first(df.Change_temp) == 1, F.last(df.Airline)).otherwise('none').alias('Airline2'),\n",
    "    F.first(df.Price).alias('Price1'),\n",
    "    F.when(F.first(df.Change_temp) == 1, F.last(df.Price)).otherwise('none').alias('Price2'),\n",
    "    F.first(df.Depart_hour).alias('Depart_hour1'),\n",
    "    F.when(F.first(df.Change_temp) == 1, F.last(df.Depart_hour)).otherwise('none').alias('Depart_hour2'),\n",
    "    F.first(df.Depart_from).alias('Depart_from1'),\n",
    "    F.when(F.first(df.Change_temp) == 1, F.last(df.Depart_from)).otherwise('0').alias('Depart_from2'),\n",
    "    F.first(df.Arrival_hour).alias('Arrival_hour1'),\n",
    "    F.when(F.first(df.Change_temp) == 1, F.last(df.Arrival_hour)).otherwise('none').alias('Arrival_hour2'),\n",
    "    F.first(df.Arrive_to).alias('Arrive_to1'),\n",
    "    F.when(F.first(df.Change_temp) == 1, F.last(df.Arrive_to)).otherwise('none').alias('Arrive_to2')\n",
    "    )"
   ]
  },
  {
   "cell_type": "markdown",
   "metadata": {},
   "source": [
    "To co jest ponizej dziala ale nie w przypadku kiedy sa nierowne liczby przesiadek"
   ]
  },
  {
   "cell_type": "code",
   "execution_count": 83,
   "metadata": {},
   "outputs": [],
   "source": [
    "dff = df.groupBy([\"Scrap_date\", \"Scrap_time\", \"Flight_id\", \"There_or_back\"]).agg(\n",
    "    F.first(df.Change).alias(\"Change\"), #To w sumie chyba nie jest potrzebne\n",
    "    F.first(df.Days).alias(\"Days\"),\n",
    "    F.first(df.Flight_date_val).alias(\"Flight_date_val\"),\n",
    "    F.first(df.Airline).alias('Airline1'),\n",
    "    F.when(F.first(df.Change) == 1, F.last(df.Airline)).otherwise('none').alias('Airline2'),\n",
    "    F.first(df.Price).alias('Price1'),\n",
    "    F.when(F.first(df.Change) == 1, F.last(df.Price)).otherwise('none').alias('Price2'),\n",
    "    F.first(df.Depart_hour).alias('Depart_hour1'),\n",
    "    F.when(F.first(df.Change) == 1, F.last(df.Depart_hour)).otherwise('none').alias('Depart_hour2'),\n",
    "    F.first(df.Depart_from).alias('Depart_from1'),\n",
    "    F.when(F.first(df.Change) == 1, F.last(df.Depart_from)).otherwise('0').alias('Depart_from2'),\n",
    "    F.first(df.Arrival_hour).alias('Arrival_hour1'),\n",
    "    F.when(F.first(df.Change) == 1, F.last(df.Arrival_hour)).otherwise('none').alias('Arrival_hour2'),\n",
    "    F.first(df.Arrive_to).alias('Arrive_to1'),\n",
    "    F.when(F.first(df.Change) == 1, F.last(df.Arrive_to)).otherwise('none').alias('Arrive_to2')\n",
    "    )"
   ]
  },
  {
   "cell_type": "markdown",
   "metadata": {},
   "source": [
    "Do poniższego jeszcze trzeba dodać czas pobytu"
   ]
  },
  {
   "cell_type": "code",
   "execution_count": 84,
   "metadata": {},
   "outputs": [],
   "source": [
    "dff_final = dff.groupBy([\"Scrap_date\", \"Scrap_time\", \"Flight_id\"]).agg(\n",
    "F.when(F.first(dff.There_or_back) == 'There', F.first(dff.Days)).otherwise(F.last(dff.Days)).alias('Days'),\n",
    "    \n",
    "(F.when(F.first(dff.There_or_back) == 'Back', F.first(dff.Flight_date_val)).otherwise(F.last(dff.Flight_date_val)) -\n",
    "F.when(F.first(dff.There_or_back) == 'There', F.first(dff.Flight_date_val)).otherwise(F.last(dff.Flight_date_val))).alias('Journey_time'),\n",
    "    \n",
    "F.when(F.first(dff.There_or_back) == 'There', F.first(dff.Airline1)).otherwise(F.last(dff.Airline1)).alias('Airline1_There'),\n",
    "F.when(F.first(dff.There_or_back) == 'Back', F.first(dff.Airline1)).otherwise(F.last(dff.Airline1)).alias('Airline1_Back'),\n",
    "F.when(F.first(dff.There_or_back) == 'There', F.first(dff.Airline2)).otherwise(F.last(dff.Airline2)).alias('Airline2_There'),\n",
    "F.when(F.first(dff.There_or_back) == 'Back', F.first(dff.Airline2)).otherwise(F.last(dff.Airline2)).alias('Airline2_Back'),\n",
    "F.when(F.first(dff.There_or_back) == 'There', F.first(dff.Price1)).otherwise(F.last(dff.Price1)).alias('Price1_There'),\n",
    "F.when(F.first(dff.There_or_back) == 'Back', F.first(dff.Price1)).otherwise(F.last(dff.Price1)).alias('Price1_Back'),\n",
    "F.when(F.first(dff.There_or_back) == 'There', F.first(dff.Price2)).otherwise(F.last(dff.Price2)).alias('Price2_There'),\n",
    "F.when(F.first(dff.There_or_back) == 'Back', F.first(dff.Price2)).otherwise(F.last(dff.Price2)).alias('Price2_Back'),\n",
    "F.when(F.first(dff.There_or_back) == 'There', F.first(dff.Depart_hour1)).otherwise(F.last(dff.Depart_hour1)).alias('Depart_hour1_There'),\n",
    "F.when(F.first(dff.There_or_back) == 'Back', F.first(dff.Depart_hour1)).otherwise(F.last(dff.Depart_hour1)).alias('Depart_hour1_Back'),\n",
    "F.when(F.first(dff.There_or_back) == 'There', F.first(dff.Depart_hour2)).otherwise(F.last(dff.Depart_hour2)).alias('Depart_hour2_There'),\n",
    "F.when(F.first(dff.There_or_back) == 'Back', F.first(dff.Depart_hour2)).otherwise(F.last(dff.Depart_hour2)).alias('Depart_hour2_Back'),\n",
    "F.when(F.first(dff.There_or_back) == 'There', F.first(dff.Depart_from1)).otherwise(F.last(dff.Depart_from1)).alias('Depart_from1_There'),\n",
    "F.when(F.first(dff.There_or_back) == 'Back', F.first(dff.Depart_from1)).otherwise(F.last(dff.Depart_from1)).alias('Depart_from1_Back'),\n",
    "F.when(F.first(dff.There_or_back) == 'There', F.first(dff.Depart_from2)).otherwise(F.last(dff.Depart_from2)).alias('Depart_from2_There'),\n",
    "F.when(F.first(dff.There_or_back) == 'Back', F.first(dff.Depart_from2)).otherwise(F.last(dff.Depart_from2)).alias('Depart_from2_Back'),\n",
    "F.when(F.first(dff.There_or_back) == 'There', F.first(dff.Arrival_hour1)).otherwise(F.last(dff.Arrival_hour1)).alias('Arrival_hour1_There'),\n",
    "F.when(F.first(dff.There_or_back) == 'Back', F.first(dff.Arrival_hour1)).otherwise(F.last(dff.Arrival_hour1)).alias('Arrival_hour1_Back'),\n",
    "F.when(F.first(dff.There_or_back) == 'There', F.first(dff.Arrival_hour2)).otherwise(F.last(dff.Arrival_hour2)).alias('Arrival_hour2_There'),\n",
    "F.when(F.first(dff.There_or_back) == 'Back', F.first(dff.Arrival_hour2)).otherwise(F.last(dff.Arrival_hour2)).alias('Arrival_hour2_Back'),\n",
    "F.when(F.first(dff.There_or_back) == 'There', F.first(dff.Arrive_to1)).otherwise(F.last(dff.Arrive_to1)).alias('Arrive_to1_There'),\n",
    "F.when(F.first(dff.There_or_back) == 'Back', F.first(dff.Arrive_to1)).otherwise(F.last(dff.Arrive_to1)).alias('Arrive_to1_Back'),\n",
    "F.when(F.first(dff.There_or_back) == 'There', F.first(dff.Arrive_to2)).otherwise(F.last(dff.Arrive_to2)).alias('Arrive_to2_There'),\n",
    "F.when(F.first(dff.There_or_back) == 'Back', F.first(dff.Arrive_to2)).otherwise(F.last(dff.Arrive_to2)).alias('Arrive_to2_Back')\n",
    ")"
   ]
  },
  {
   "cell_type": "code",
   "execution_count": null,
   "metadata": {},
   "outputs": [],
   "source": [
    "dff.show()"
   ]
  },
  {
   "cell_type": "markdown",
   "metadata": {},
   "source": [
    "Poniżej jakieś moje robocze rzeczy, testy, itp."
   ]
  },
  {
   "cell_type": "code",
   "execution_count": null,
   "metadata": {},
   "outputs": [],
   "source": []
  },
  {
   "cell_type": "code",
   "execution_count": null,
   "metadata": {},
   "outputs": [],
   "source": []
  },
  {
   "cell_type": "code",
   "execution_count": 60,
   "metadata": {},
   "outputs": [],
   "source": [
    "dff = df.groupBy([\"Scrap_date\", \"Scrap_time\", \"Flight_id\", \"There_or_back\"]).agg(\n",
    "    F.first(df.Change).alias(\"Change\"),\n",
    "    F.first(df.Airline).alias('Airline1'),\n",
    "    F.when(F.first(df.Change) == 1, F.last(df.Airline)).otherwise('none').alias('Airline2'),\n",
    "    F.first(df.Price).alias('Price1'),\n",
    "    F.when(F.first(df.Change) == 1, F.last(df.Price)).otherwise('none').alias('Price2')\n",
    "    )"
   ]
  },
  {
   "cell_type": "code",
   "execution_count": 45,
   "metadata": {},
   "outputs": [],
   "source": [
    "dff = dff.orderBy([\"There_or_back\"])"
   ]
  },
  {
   "cell_type": "code",
   "execution_count": 56,
   "metadata": {},
   "outputs": [
    {
     "name": "stdout",
     "output_type": "stream",
     "text": [
      "+----------+----------+---------+-------------+------+--------+--------+------+------+\n",
      "|Scrap_date|Scrap_time|Flight_id|There_or_back|Change|Airline1|Airline2|Price1|Price2|\n",
      "+----------+----------+---------+-------------+------+--------+--------+------+------+\n",
      "|2019-05-18|         2|       72|         Back|     1| easyJet| easyJet|  7.26| 13.67|\n",
      "|2019-05-18|         2|       72|        There|     1| easyJet| easyJet| 23.42|  36.9|\n",
      "|2019-05-15|         2|       72|        There|     1| easyJet| easyJet| 14.33| 26.29|\n",
      "|2019-05-17|         2|       72|         Back|     1| easyJet| easyJet| 16.49| 24.87|\n",
      "|2019-05-16|         2|       72|         Back|     1| easyJet| easyJet| 14.33| 25.28|\n",
      "|2019-05-15|         2|       72|         Back|     1| easyJet| easyJet| 14.33| 25.28|\n",
      "|2019-05-19|         2|       72|        There|     1| easyJet| easyJet| 23.42|  36.9|\n",
      "|2019-05-16|         2|       72|        There|     1| easyJet| easyJet| 14.33| 26.29|\n",
      "|2019-05-19|         2|       72|         Back|     1| easyJet| easyJet|  7.26| 13.67|\n",
      "|2019-05-17|         2|       72|        There|     1| easyJet| easyJet| 18.88| 20.74|\n",
      "+----------+----------+---------+-------------+------+--------+--------+------+------+\n",
      "\n"
     ]
    }
   ],
   "source": [
    "dff.filter(dff.Flight_id == 72).show()"
   ]
  },
  {
   "cell_type": "code",
   "execution_count": 42,
   "metadata": {},
   "outputs": [],
   "source": [
    "dff_final = dff.groupBy([\"Scrap_date\", \"Scrap_time\", \"Flight_id\"]).agg(\n",
    "    F.first(dff.Change).alias(\"Change\"),\n",
    "    F.first(dff.Airline1).alias(\"Airline1_There\"),\n",
    "    F.last(dff.Airline1).alias(\"Airline1_Back\"),\n",
    "    F.first(dff.Airline2).alias(\"Airline2_There\"),\n",
    "    F.last(dff.Airline2).alias(\"Airline2_Back\"),\n",
    "    F.first(dff.Price1).alias(\"Price1_There\"),\n",
    "    F.last(dff.Price1).alias(\"Price1_Back\"),\n",
    "    F.first(dff.Price2).alias(\"Price2_There\"),\n",
    "    F.last(dff.Price2).alias(\"Price2_Back\"),\n",
    "    F.first(dff.Depart_hour1).alias(\"Depart_hour1_There\"),\n",
    "    F.last(dff.Depart_hour1).alias(\"Depart_hour1_Back\"),\n",
    "    F.first(dff.Depart_hour2).alias(\"Depart_hour2_There\"),\n",
    "    F.last(dff.Depart_hour2).alias(\"Depart_hour2_Back\"),\n",
    "    F.first(dff.Depart_from1).alias(\"Depart_from1_There\"),\n",
    "    F.last(dff.Depart_from1).alias(\"Depart_from1_Back\"),\n",
    "    F.first(dff.Depart_from2).alias(\"Depart_from2_There\"),\n",
    "    F.last(dff.Depart_from2).alias(\"Depart_from2_Back\"),\n",
    "    F.first(dff.Arrival_hour1).alias(\"Arrival_hour1_There\"),\n",
    "    F.last(dff.Arrival_hour1).alias(\"Arrival_hour1_Back\"),\n",
    "    F.first(dff.Arrival_hour2).alias(\"Arrival_hour2_There\"),\n",
    "    F.last(dff.Arrival_hour2).alias(\"Arrival_hour2_Back\"),\n",
    "    F.first(dff.Arrive_to1).alias(\"Arrive_to1_There\"),\n",
    "    F.last(dff.Arrive_to1).alias(\"Arrive_to1_Back\"),\n",
    "    F.first(dff.Arrive_to2).alias(\"Arrive_to2_There\"),\n",
    "    F.last(dff.Arrive_to2).alias(\"Arrive_to2_Back\"),\n",
    ")"
   ]
  },
  {
   "cell_type": "code",
   "execution_count": 66,
   "metadata": {},
   "outputs": [],
   "source": [
    "dff_final = dff.groupBy([\"Scrap_date\", \"Scrap_time\", \"Flight_id\"]).agg(\n",
    "F.when(F.first(dff.There_or_back) == 'There', F.first(dff.Airline1)).otherwise(F.last(dff.Airline1)).alias('Airline1_There'),\n",
    "F.when(F.first(dff.There_or_back) == 'Back', F.first(dff.Airline1)).otherwise(F.last(dff.Airline1)).alias('Airline1_Back'),\n",
    "F.when(F.first(dff.There_or_back) == 'There', F.first(dff.Airline2)).otherwise(F.last(dff.Airline2)).alias('Airline2_There'),\n",
    "F.when(F.first(dff.There_or_back) == 'Back', F.first(dff.Airline2)).otherwise(F.last(dff.Airline2)).alias('Airline2_Back'),\n",
    "F.when(F.first(dff.There_or_back) == 'There', F.first(dff.Price1)).otherwise(F.last(dff.Price1)).alias('Price1_There'),\n",
    "F.when(F.first(dff.There_or_back) == 'Back', F.first(dff.Price1)).otherwise(F.last(dff.Price1)).alias('Price1_Back'),\n",
    "F.when(F.first(dff.There_or_back) == 'There', F.first(dff.Price2)).otherwise(F.last(dff.Price2)).alias('Price2_There'),\n",
    "F.when(F.first(dff.There_or_back) == 'Back', F.first(dff.Price2)).otherwise(F.last(dff.Price2)).alias('Price2_Back'),\n",
    "F.when(F.first(dff.There_or_back) == 'There', F.first(dff.Depart_hour1)).otherwise(F.last(dff.Depart_hour1)).alias('Depart_hour1_There'),\n",
    "F.when(F.first(dff.There_or_back) == 'Back', F.first(dff.Depart_hour1)).otherwise(F.last(dff.Depart_hour1)).alias('Depart_hour1_Back'),\n",
    "F.when(F.first(dff.There_or_back) == 'There', F.first(dff.Depart_hour2)).otherwise(F.last(dff.Depart_hour2)).alias('Depart_hour2_There'),\n",
    "F.when(F.first(dff.There_or_back) == 'Back', F.first(dff.Depart_hour2)).otherwise(F.last(dff.Depart_hour2)).alias('Depart_hour2_Back'),\n",
    "F.when(F.first(dff.There_or_back) == 'There', F.first(dff.Depart_from1)).otherwise(F.last(dff.Depart_from1)).alias('Depart_from1_There'),\n",
    "F.when(F.first(dff.There_or_back) == 'Back', F.first(dff.Depart_from1)).otherwise(F.last(dff.Depart_from1)).alias('Depart_from1_Back'),\n",
    "F.when(F.first(dff.There_or_back) == 'There', F.first(dff.Depart_from2)).otherwise(F.last(dff.Depart_from2)).alias('Depart_from2_There'),\n",
    "F.when(F.first(dff.There_or_back) == 'Back', F.first(dff.Depart_from2)).otherwise(F.last(dff.Depart_from2)).alias('Depart_from2_Back'),\n",
    "F.when(F.first(dff.There_or_back) == 'There', F.first(dff.Arrival_hour1)).otherwise(F.last(dff.Arrival_hour1)).alias('Arrival_hour1_There'),\n",
    "F.when(F.first(dff.There_or_back) == 'Back', F.first(dff.Arrival_hour1)).otherwise(F.last(dff.Arrival_hour1)).alias('Arrival_hour1_Back'),\n",
    "F.when(F.first(dff.There_or_back) == 'There', F.first(dff.Arrival_hour2)).otherwise(F.last(dff.Arrival_hour2)).alias('Arrival_hour2_There'),\n",
    "F.when(F.first(dff.There_or_back) == 'Back', F.first(dff.Arrival_hour2)).otherwise(F.last(dff.Arrival_hour2)).alias('Arrival_hour2_Back'),\n",
    "F.when(F.first(dff.There_or_back) == 'There', F.first(dff.Arrive_to1)).otherwise(F.last(dff.Arrive_to1)).alias('Arrive_to1_There'),\n",
    "F.when(F.first(dff.There_or_back) == 'Back', F.first(dff.Arrive_to1)).otherwise(F.last(dff.Arrive_to1)).alias('Arrive_to1_Back'),\n",
    "F.when(F.first(dff.There_or_back) == 'There', F.first(dff.Arrive_to2)).otherwise(F.last(dff.Arrive_to2)).alias('Arrive_to2_There'),\n",
    "F.when(F.first(dff.There_or_back) == 'Back', F.first(dff.Arrive_to2)).otherwise(F.last(dff.Arrive_to2)).alias('Arrive_to2_Back')\n",
    ")"
   ]
  },
  {
   "cell_type": "code",
   "execution_count": 85,
   "metadata": {
    "scrolled": true
   },
   "outputs": [
    {
     "name": "stdout",
     "output_type": "stream",
     "text": [
      "+----------+----------+---------+----+------------+--------------+-------------+--------------+-------------+------------+-----------+------------+-----------+------------------+-----------------+------------------+-----------------+--------------------+--------------------+--------------------+--------------------+-------------------+------------------+-------------------+------------------+--------------------+--------------------+--------------------+--------------------+\n",
      "|Scrap_date|Scrap_time|Flight_id|Days|Journey_time|Airline1_There|Airline1_Back|Airline2_There|Airline2_Back|Price1_There|Price1_Back|Price2_There|Price2_Back|Depart_hour1_There|Depart_hour1_Back|Depart_hour2_There|Depart_hour2_Back|  Depart_from1_There|   Depart_from1_Back|  Depart_from2_There|   Depart_from2_Back|Arrival_hour1_There|Arrival_hour1_Back|Arrival_hour2_There|Arrival_hour2_Back|    Arrive_to1_There|     Arrive_to1_Back|    Arrive_to2_There|     Arrive_to2_Back|\n",
      "+----------+----------+---------+----+------------+--------------+-------------+--------------+-------------+------------+-----------+------------+-----------+------------------+-----------------+------------------+-----------------+--------------------+--------------------+--------------------+--------------------+-------------------+------------------+-------------------+------------------+--------------------+--------------------+--------------------+--------------------+\n",
      "|2019-05-15|         2|       72| 132|           4|       easyJet|      easyJet|       easyJet|      easyJet|       14.33|      14.33|       26.29|      25.28|           morning|          morning|         afternoon|        afternoon|          Vienna VIE|            Graz GRZ|Berlin TXLBerlin ...|Berlin TXLBerlin ...|          afternoon|           morning|          afternoon|         afternoon|Berlin TXLBerlin ...|Berlin TXLBerlin ...|            Graz GRZ|          Vienna VIE|\n",
      "|2019-05-15|         2|       82| 294|           4|       easyJet|      easyJet|       easyJet|      easyJet|       22.99|      25.49|       17.87|      17.87|           morning|        afternoon|         afternoon|          evening|          Vienna VIE|        Salzburg SZG|Berlin SXFBerlin ...|Berlin SXFBerlin ...|            morning|           evening|          afternoon|           evening|Berlin SXFBerlin ...|Berlin SXFBerlin ...|        Salzburg SZG|          Vienna VIE|\n",
      "|2019-05-15|         2|      112| 155|           4|       easyJet|      easyJet|       easyJet|    Eurowings|       34.03|      16.86|       11.14|      39.99|         afternoon|          morning|           evening|          morning|        Salzburg SZG|          Vienna VIE|Berlin SXFBerlin ...|Berlin TXLBerlin ...|          afternoon|           morning|            evening|           morning|Berlin SXFBerlin ...|Berlin TXLBerlin ...|          Vienna VIE|        Salzburg SZG|\n",
      "|2019-05-15|         2|      129| 141|           7|     Eurowings|    Eurowings|     Eurowings|      easyJet|       99.99|      49.99|       69.99|      20.74|           morning|        afternoon|           evening|        afternoon|            Graz GRZ|        Salzburg SZG|      Palma Mall PMI|Berlin TXLBerlin ...|          afternoon|         afternoon|            evening|         afternoon|Palma Mall PMI EW...|Berlin TXLBerlin ...|        Salzburg SZG|            Graz GRZ|\n",
      "|2019-05-15|         2|      314| 142|           6|   Laudamotion|    Eurowings|       Ryanair|    Eurowings|       19.99|      34.99|       19.99|      34.99|           morning|        afternoon|           evening|        afternoon|          Vienna VIE|           Zadar ZAD|Milan BGYMilan (B...|           Zadar ZAD|          afternoon|         afternoon|            evening|         afternoon|Milan BGYMilan (B...|          Vienna VIE|           Zadar ZAD|          Vienna VIE|\n",
      "|2019-05-15|         2|      516| 186|           5|   Laudamotion|      Ryanair|   Laudamotion|     Wizz Air|       29.57|       5.92|       29.57|       9.05|         afternoon|          morning|         afternoon|        afternoon|          Vienna VIE|      Copenhagen CPH|          Vienna VIE|          Gdansk GDN|          afternoon|           morning|          afternoon|         afternoon|      Copenhagen CPH|   Gdansk GDN FR6845|      Copenhagen CPH|          Vienna VIE|\n",
      "|2019-05-15|         2|      970| 202|           8|   Laudamotion|      easyJet|   Laudamotion|     Wizz Air|       23.86|       15.2|       23.86|      14.99|         afternoon|        afternoon|         afternoon|          evening|          Vienna VIE|        Bordeaux BOD|          Vienna VIE|Milan MXPMilan (M...|            evening|         afternoon|            evening|           evening|        Bordeaux BOD|Milan MXPMilan (M...|        Bordeaux BOD|          Vienna VIE|\n",
      "|2019-05-15|         2|     1036|  62|           8|      Wizz Air|     Wizz Air|          none|         none|       14.99|      14.99|        none|       none|           morning|        afternoon|              none|             none|          Vienna VIE|        Dortmund DTM|                   0|                   0|          afternoon|         afternoon|               none|              none|        Dortmund DTM|          Vienna VIE|                none|                none|\n",
      "|2019-05-15|         2|     1225|   7|           6|     Eurowings|  Laudamotion|          none|         none|       49.99|       9.99|        none|       none|           morning|        afternoon|              none|             none|          Vienna VIE|             Kos KGS|                   0|                   0|          afternoon|         afternoon|               none|              none|             Kos KGS|          Vienna VIE|                none|                none|\n",
      "|2019-05-15|         2|     1410|  22|           7|   Laudamotion|      Ryanair|       Ryanair|  Laudamotion|       19.99|      17.99|       20.74|      23.04|           morning|          morning|           morning|          evening|          Vienna VIE|         Shannon SNN|London STNLondon ...|London STNLondon ...|            morning|           morning|            morning|           evening|London STNLondon ...|London STNLondon ...|         Shannon SNN|          Vienna VIE|\n",
      "|2019-05-15|         2|     2030| 105|           8|      Wizz Air|      easyJet|      Wizz Air|      easyJet|        9.99|       4.64|        9.99|      18.21|         afternoon|          morning|         afternoon|        afternoon|          Vienna VIE|          Warsaw WAW|          Vienna VIE|Berlin TXLBerlin ...|          afternoon|           morning|          afternoon|           evening|          Warsaw WAW|Berlin TXLBerlin ...|          Warsaw WAW|          Vienna VIE|\n",
      "|2019-05-15|         2|     2213| 139|           8|      Wizz Air|      easyJet|       easyJet|      easyJet|       14.99|      14.37|       18.91|      20.29|             night|          morning|           morning|        afternoon|          Vienna VIE|          Lisbon LIS|          Madrid MAD|          Geneva GVA|            morning|           morning|            morning|         afternoon|   Madrid MAD W62845|   Geneva GVA U21442|          Lisbon LIS|          Vienna VIE|\n",
      "|2019-05-15|         2|     2395| 255|           5|      Wizz Air|     Wizz Air|          none|         none|       14.99|      24.99|        none|       none|         afternoon|          evening|              none|             none|          Vienna VIE|          Malaga AGP|                   0|                   0|            evening|           evening|               none|              none|          Malaga AGP|          Vienna VIE|                none|                none|\n",
      "|2019-05-15|         2|     2615| 162|           4|       Ryanair|      easyJet|       easyJet|      Ryanair|       22.39|      25.49|       18.21|      19.99|           morning|          morning|           morning|          evening|        Brussels BRU|        Salzburg SZG|Berlin SXFBerlin ...|Berlin SXFBerlin ...|            morning|           morning|          afternoon|           evening|Berlin SXFBerlin ...|Berlin SXFBerlin ...|        Salzburg SZG|        Brussels BRU|\n",
      "|2019-05-15|         2|     2659|   7|           4|     Jetairfly|  Laudamotion|   Laudamotion|    Jetairfly|       39.99|     117.29|        9.99|      39.99|         afternoon|            night|           evening|          evening|           Liege LGG|          Vienna VIE|      Palma Mall PMI|          Rhodes RHO|          afternoon|           morning|            evening|           evening|Palma Mall PMI TB...|    Rhodes RHO OE602|          Vienna VIE|           Liege LGG|\n",
      "|2019-05-15|         2|     2759|   2|           4|     Jetairfly|    Jetairfly|     Jetairfly|      Ryanair|       89.99|      79.99|       29.99|      44.56|           morning|          morning|           morning|        afternoon|        Brussels BRU|Antwerp ANRAntwer...|      Palma Mall PMI|        Alicante ALC|            morning|           morning|          afternoon|         afternoon|Palma Mall PMI TB...| Alicante ALC TB1101|Antwerp ANRAntwer...|        Brussels BRU|\n",
      "|2019-05-15|         2|     3526|  42|           6|       Ryanair|     Wizz Air|       Ryanair|     Wizz Air|       16.79|      24.99|        8.99|       9.22|           morning|          morning|           evening|        afternoon|Brussels CRLBruss...|       Frankfurt FRA|Milan BGYMilan (B...|        Budapest BUD|            morning|           morning|            evening|           evening|Milan BGYMilan (B...| Budapest BUD W62314|       Frankfurt FRA|Brussels CRLBruss...|\n",
      "|2019-05-15|         2|     3637| 203|           7|       Ryanair|      Ryanair|          none|         none|       28.99|      27.73|        none|       none|         afternoon|          evening|              none|             none|Brussels CRLBruss...|      Thessaloni SKG|                   0|                   0|            evening|           evening|               none|              none|      Thessaloni SKG|Brussels CRLBruss...|                none|                none|\n",
      "|2019-05-15|         2|     3779| 207|           5|       Ryanair|      easyJet|       Ryanair|      Ryanair|       28.99|      15.49|       28.99|      25.85|         afternoon|        afternoon|         afternoon|          evening|Brussels CRLBruss...|      Thessaloni SKG|Brussels CRLBruss...|      Manchester MAN|            evening|         afternoon|            evening|           evening|      Thessaloni SKG|Manchester MAN U2...|      Thessaloni SKG|Brussels CRLBruss...|\n",
      "|2019-05-15|         2|     4728| 193|           5|       Ryanair|     Wizz Air|      Wizz Air|      Ryanair|       20.39|      44.99|       47.43|      19.05|         afternoon|          morning|         afternoon|          evening|Brussels CRLBruss...|Moscow VKOMoscow ...|        Budapest BUD|        Budapest BUD|          afternoon|           morning|            evening|           evening| Budapest BUD FR8416| Budapest BUD W62490|Moscow VKOMoscow ...|Brussels CRLBruss...|\n",
      "+----------+----------+---------+----+------------+--------------+-------------+--------------+-------------+------------+-----------+------------+-----------+------------------+-----------------+------------------+-----------------+--------------------+--------------------+--------------------+--------------------+-------------------+------------------+-------------------+------------------+--------------------+--------------------+--------------------+--------------------+\n",
      "only showing top 20 rows\n",
      "\n"
     ]
    }
   ],
   "source": [
    "dff_final.show()"
   ]
  },
  {
   "cell_type": "code",
   "execution_count": 25,
   "metadata": {},
   "outputs": [
    {
     "name": "stdout",
     "output_type": "stream",
     "text": [
      "+-----------+------------+--------------------+------+------------+----------+--------------------+-----------+-----------+---------+-----+----------+----------+-------------+----+---------------+\n",
      "|    Airline|Arrival_hour|           Arrive_to|Change|Country_from|Country_to|         Depart_from|Depart_hour|Flight_date|Flight_id|Price|Scrap_date|Scrap_time|There_or_Back|Days|Flight_date_val|\n",
      "+-----------+------------+--------------------+------+------------+----------+--------------------+-----------+-----------+---------+-----+----------+----------+-------------+----+---------------+\n",
      "|Laudamotion|     evening|   Krakow KRK OE1304|     1|     Austria|   Austria|          Vienna VIE|    evening|   14/07/19|        1| 9.99|2019-05-15|         2|        There|  60|     1563055200|\n",
      "|Laudamotion|     evening|          Vienna VIE|     1|     Austria|   Austria|          Krakow KRK|    evening|   14/07/19|        1| 9.05|2019-05-15|         2|        There|  60|     1563055200|\n",
      "|Laudamotion|     evening|   Krakow KRK OE1304|     1|     Austria|   Austria|          Vienna VIE|    evening|   21/07/19|        1| 9.99|2019-05-15|         2|         Back|  67|     1563660000|\n",
      "|Laudamotion|     evening|          Vienna VIE|     1|     Austria|   Austria|          Krakow KRK|    evening|   21/07/19|        1|  2.3|2019-05-15|         2|         Back|  67|     1563660000|\n",
      "|Laudamotion|     evening|   Krakow KRK OE1304|     1|     Austria|   Austria|          Vienna VIE|    evening|   21/07/19|        2| 9.99|2019-05-15|         2|        There|  67|     1563660000|\n",
      "|Laudamotion|     evening|          Vienna VIE|     1|     Austria|   Austria|          Krakow KRK|    evening|   21/07/19|        2|  2.3|2019-05-15|         2|        There|  67|     1563660000|\n",
      "|Laudamotion|     evening|   Krakow KRK OE1304|     1|     Austria|   Austria|          Vienna VIE|    evening|   28/07/19|        2| 9.99|2019-05-15|         2|         Back|  74|     1564264800|\n",
      "|Laudamotion|     evening|          Vienna VIE|     1|     Austria|   Austria|          Krakow KRK|    evening|   28/07/19|        2| 9.05|2019-05-15|         2|         Back|  74|     1564264800|\n",
      "|Laudamotion|     evening|   Krakow KRK OE1304|     1|     Austria|   Austria|          Vienna VIE|    evening|   21/07/19|        3| 9.99|2019-05-15|         2|        There|  67|     1563660000|\n",
      "|Laudamotion|     evening|          Vienna VIE|     1|     Austria|   Austria|          Krakow KRK|    evening|   21/07/19|        3|  2.3|2019-05-15|         2|        There|  67|     1563660000|\n",
      "|   Wizz Air|   afternoon|Rome FCORome (Fiu...|     1|     Austria|   Austria|          Vienna VIE|  afternoon|   29/07/19|        3| 9.99|2019-05-15|         2|         Back|  75|     1564351200|\n",
      "|Laudamotion|     evening|          Vienna VIE|     1|     Austria|   Austria|Rome FCORome (Fiu...|    evening|   29/07/19|        3|14.99|2019-05-15|         2|         Back|  75|     1564351200|\n",
      "|Laudamotion|     evening|   Krakow KRK OE1304|     1|     Austria|   Austria|          Vienna VIE|    evening|   09/06/19|        4| 9.99|2019-05-15|         2|        There|  25|     1560031200|\n",
      "|Laudamotion|     evening|          Vienna VIE|     1|     Austria|   Austria|          Krakow KRK|    evening|   09/06/19|        4| 9.05|2019-05-15|         2|        There|  25|     1560031200|\n",
      "|Laudamotion|     evening|   Krakow KRK OE1304|     1|     Austria|   Austria|          Vienna VIE|    evening|   16/06/19|        4| 9.99|2019-05-15|         2|         Back|  32|     1560636000|\n",
      "|Laudamotion|     evening|          Vienna VIE|     1|     Austria|   Austria|          Krakow KRK|    evening|   16/06/19|        4| 9.05|2019-05-15|         2|         Back|  32|     1560636000|\n",
      "|Laudamotion|     evening|   Krakow KRK OE1304|     1|     Austria|   Austria|          Vienna VIE|    evening|   07/07/19|        5| 9.99|2019-05-15|         2|        There|  53|     1562450400|\n",
      "|Laudamotion|     evening|          Vienna VIE|     1|     Austria|   Austria|          Krakow KRK|    evening|   07/07/19|        5| 9.05|2019-05-15|         2|        There|  53|     1562450400|\n",
      "|Laudamotion|     evening|   Krakow KRK OE1304|     1|     Austria|   Austria|          Vienna VIE|    evening|   14/07/19|        5| 9.99|2019-05-15|         2|         Back|  60|     1563055200|\n",
      "|Laudamotion|     evening|          Vienna VIE|     1|     Austria|   Austria|          Krakow KRK|    evening|   14/07/19|        5| 9.05|2019-05-15|         2|         Back|  60|     1563055200|\n",
      "+-----------+------------+--------------------+------+------------+----------+--------------------+-----------+-----------+---------+-----+----------+----------+-------------+----+---------------+\n",
      "only showing top 20 rows\n",
      "\n"
     ]
    }
   ],
   "source": [
    "df.show()"
   ]
  },
  {
   "cell_type": "code",
   "execution_count": null,
   "metadata": {},
   "outputs": [],
   "source": []
  },
  {
   "cell_type": "code",
   "execution_count": 8,
   "metadata": {},
   "outputs": [],
   "source": [
    "df = df.groupBy([\"Scrap_date\", \"Scrap_time\", \"Flight_id\"]).agg(F.first(df.Country_from).alias(\"Country_from\"),\n",
    "                                                               F.first(df.Country_to).alias(\"Country_to\"),\n",
    "                                                               F.first(df.Change).alias(\"Change\"),\n",
    "                                                               (F.last(df.Flight_date_val) - F.first(df.Flight_date_val)).alias('Journey_time'),\n",
    "                                                               F.sum(df.Price).alias(\"Price\")\n",
    "                                                              )"
   ]
  },
  {
   "cell_type": "code",
   "execution_count": 25,
   "metadata": {
    "scrolled": true
   },
   "outputs": [
    {
     "name": "stdout",
     "output_type": "stream",
     "text": [
      "+-----------+------------+-----------+------+------------+----------+-----------+-----------+---------+-----+----------+-------------+----+---------------+\n",
      "|    Airline|Arrival_hour|  Arrive_to|Change|Country_from|Country_to|Depart_from|Depart_hour|Flight_id|Price|Scrap_time|There_or_Back|Days|Flight_date_val|\n",
      "+-----------+------------+-----------+------+------------+----------+-----------+-----------+---------+-----+----------+-------------+----+---------------+\n",
      "|Laudamotion|     morning|   Pisa PSA|     0|     Austria|     Italy| Vienna VIE|    morning|     1536| 9.99|         2|        There|  24|          18055|\n",
      "|Laudamotion|     morning| Vienna VIE|     0|     Austria|     Italy|   Pisa PSA|    morning|     1536| 9.99|         2|         Back|  28|          18059|\n",
      "|Laudamotion|     evening|   Pisa PSA|     0|     Austria|     Italy| Vienna VIE|  afternoon|     1537| 9.99|         2|        There|  33|          18064|\n",
      "|Laudamotion|     evening| Vienna VIE|     0|     Austria|     Italy|   Pisa PSA|    evening|     1537| 9.99|         2|         Back|  40|          18071|\n",
      "|Laudamotion|     evening|   Pisa PSA|     0|     Austria|     Italy| Vienna VIE|  afternoon|     1538| 9.99|         2|        There|  40|          18071|\n",
      "|Laudamotion|     evening| Vienna VIE|     0|     Austria|     Italy|   Pisa PSA|    evening|     1538| 9.99|         2|         Back|  44|          18075|\n",
      "|Laudamotion|     evening|   Pisa PSA|     0|     Austria|     Italy| Vienna VIE|  afternoon|     1539| 9.99|         2|        There|  26|          18057|\n",
      "|Laudamotion|     evening| Vienna VIE|     0|     Austria|     Italy|   Pisa PSA|    evening|     1539| 9.99|         2|         Back|  33|          18064|\n",
      "|Laudamotion|     morning|   Pisa PSA|     0|     Austria|     Italy| Vienna VIE|    morning|     1540| 9.99|         2|        There|  28|          18059|\n",
      "|Laudamotion|     evening| Vienna VIE|     0|     Austria|     Italy|   Pisa PSA|    evening|     1540| 9.99|         2|         Back|  33|          18064|\n",
      "|Laudamotion|     evening|   Pisa PSA|     0|     Austria|     Italy| Vienna VIE|    evening|     1541| 9.99|         2|        There|  37|          18068|\n",
      "|Laudamotion|     morning| Vienna VIE|     0|     Austria|     Italy|   Pisa PSA|    morning|     1541| 9.99|         2|         Back|  42|          18073|\n",
      "|Laudamotion|     evening|   Pisa PSA|     0|     Austria|     Italy| Vienna VIE|    evening|     1542| 9.99|         2|        There|  37|          18068|\n",
      "|Laudamotion|     evening| Vienna VIE|     0|     Austria|     Italy|   Pisa PSA|    evening|     1542| 9.99|         2|         Back|  44|          18075|\n",
      "|Laudamotion|     morning|Bologna BLQ|     0|     Austria|     Italy| Vienna VIE|    morning|     1543| 9.99|         2|        There|  17|          18048|\n",
      "|Laudamotion|     morning| Vienna VIE|     0|     Austria|     Italy|Bologna BLQ|    morning|     1543| 9.99|         2|         Back|  23|          18054|\n",
      "|Laudamotion|     morning|Bologna BLQ|     0|     Austria|     Italy| Vienna VIE|    morning|     1544| 9.99|         2|        There|  31|          18062|\n",
      "|Laudamotion|     morning| Vienna VIE|     0|     Austria|     Italy|Bologna BLQ|    morning|     1544| 9.99|         2|         Back|  38|          18069|\n",
      "|Laudamotion|     morning|Bologna BLQ|     0|     Austria|     Italy| Vienna VIE|    morning|     1545| 9.99|         2|        There|   2|          18033|\n",
      "|Laudamotion|     morning| Vienna VIE|     0|     Austria|     Italy|Bologna BLQ|    morning|     1545| 9.99|         2|         Back|   9|          18040|\n",
      "+-----------+------------+-----------+------+------------+----------+-----------+-----------+---------+-----+----------+-------------+----+---------------+\n",
      "only showing top 20 rows\n",
      "\n"
     ]
    }
   ],
   "source": [
    "df.show()"
   ]
  },
  {
   "cell_type": "code",
   "execution_count": 50,
   "metadata": {},
   "outputs": [
    {
     "name": "stdout",
     "output_type": "stream",
     "text": [
      "+-----+---+\n",
      "|Count|Max|\n",
      "+-----+---+\n",
      "|    1|  1|\n",
      "|    2|  2|\n",
      "+-----+---+\n",
      "\n"
     ]
    }
   ],
   "source": [
    "d = df.groupBy([\"Scrap_date\", \"Scrap_time\", \"Flight_id\", \"There_or_Back\"]).agg(F.count('Price').alias('Count'))\n",
    "d.groupBy('Count').agg(F.max('Count').alias('Max')).show()\n"
   ]
  },
  {
   "cell_type": "code",
   "execution_count": 68,
   "metadata": {},
   "outputs": [
    {
     "name": "stdout",
     "output_type": "stream",
     "text": [
      "+-----+------+\n",
      "|Count| count|\n",
      "+-----+------+\n",
      "|    3|159202|\n",
      "|    2|277691|\n",
      "|    4|247142|\n",
      "+-----+------+\n",
      "\n"
     ]
    }
   ],
   "source": [
    "d = df.groupBy([\"Scrap_date\", \"Scrap_time\", \"Flight_id\"]).agg(F.count('Price').alias('Count'))\n",
    "d.groupBy('Count').count().show()"
   ]
  },
  {
   "cell_type": "code",
   "execution_count": 10,
   "metadata": {},
   "outputs": [
    {
     "name": "stdout",
     "output_type": "stream",
     "text": [
      "+----------+----------+---------+-----+\n",
      "|Scrap_date|Scrap_time|Flight_id|Count|\n",
      "+----------+----------+---------+-----+\n",
      "|2019-05-15|         2|       72|    4|\n",
      "|2019-05-15|         2|       82|    4|\n",
      "|2019-05-15|         2|      112|    4|\n",
      "|2019-05-15|         2|      129|    4|\n",
      "|2019-05-15|         2|      314|    3|\n",
      "|2019-05-15|         2|      516|    3|\n",
      "|2019-05-15|         2|      970|    3|\n",
      "|2019-05-15|         2|     1036|    2|\n",
      "|2019-05-15|         2|     1225|    2|\n",
      "|2019-05-15|         2|     1410|    4|\n",
      "|2019-05-15|         2|     2030|    3|\n",
      "|2019-05-15|         2|     2213|    4|\n",
      "|2019-05-15|         2|     2395|    2|\n",
      "|2019-05-15|         2|     2615|    4|\n",
      "|2019-05-15|         2|     2659|    4|\n",
      "|2019-05-15|         2|     2759|    4|\n",
      "|2019-05-15|         2|     3526|    4|\n",
      "|2019-05-15|         2|     3637|    2|\n",
      "|2019-05-15|         2|     3779|    3|\n",
      "|2019-05-15|         2|     4728|    4|\n",
      "+----------+----------+---------+-----+\n",
      "only showing top 20 rows\n",
      "\n"
     ]
    }
   ],
   "source": [
    "d.show()"
   ]
  },
  {
   "cell_type": "code",
   "execution_count": null,
   "metadata": {},
   "outputs": [],
   "source": [
    "dff_final = dff.groupBy([\"Scrap_date\", \"Scrap_time\", \"Flight_id\"]).agg(\n",
    "F.when(F.first(dff.There_or_back) == 'There', F.first(dff.Airline1)).otherwise(F.last(dff.Airline1)).alias('Airline1_There'),\n",
    "F.when(F.first(dff.There_or_back) == 'Back', F.first(dff.Airline1)).otherwise(F.last(dff.Airline1)).alias('Airline1_Back'),\n",
    "F.when(F.first(dff.There_or_back) == 'There', F.first(dff.Airline2)).otherwise(F.last(dff.Airline2)).alias('Airline2_There'),\n",
    "F.when(F.first(dff.There_or_back) == 'Back', F.first(dff.Airline2)).otherwise(F.last(dff.Airline2)).alias('Airline1_Back'),\n",
    "F.when(F.first(dff.There_or_back) == 'There', F.first(dff.Price1)).otherwise(F.last(dff.Price1)).alias('Price1_There'),\n",
    "F.when(F.first(dff.There_or_back) == 'Back', F.first(dff.Price1)).otherwise(F.last(dff.Price1)).alias('Price1_Back'),\n",
    "F.when(F.first(dff.There_or_back) == 'There', F.first(dff.Price2)).otherwise(F.last(dff.Price2)).alias('Price2_There'),\n",
    "F.when(F.first(dff.There_or_back) == 'Back', F.first(dff.Price2)).otherwise(F.last(dff.Price2)).alias('Price2_Back')\n",
    ")"
   ]
  }
 ],
 "metadata": {
  "kernelspec": {
   "display_name": "Python 3",
   "language": "python",
   "name": "python3"
  },
  "language_info": {
   "codemirror_mode": {
    "name": "ipython",
    "version": 3
   },
   "file_extension": ".py",
   "mimetype": "text/x-python",
   "name": "python",
   "nbconvert_exporter": "python",
   "pygments_lexer": "ipython3",
   "version": "3.6.8"
  }
 },
 "nbformat": 4,
 "nbformat_minor": 2
}
