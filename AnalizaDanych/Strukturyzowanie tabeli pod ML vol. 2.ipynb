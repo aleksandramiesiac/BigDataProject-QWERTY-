{
 "cells": [
  {
   "cell_type": "code",
   "execution_count": 1,
   "metadata": {},
   "outputs": [],
   "source": [
    "import pyspark\n",
    "from pyspark import SparkContext, SparkConf\n",
    "from pyspark.sql import SQLContext\n",
    "from pyspark.sql import Row\n",
    "from pyspark import SparkContext, SparkConf\n",
    "from pyspark.sql.functions import udf\n",
    "from pyspark.sql.types import IntegerType, StringType\n",
    "import pyspark.sql.functions as F\n",
    "import json\n",
    "import itertools\n",
    "\n",
    "conf = SparkConf().setAppName('MyFirstStandaloneApp')\n",
    "sc = SparkContext(conf=conf)\n",
    "sc.setLogLevel(\"ERROR\")"
   ]
  },
  {
   "cell_type": "code",
   "execution_count": 2,
   "metadata": {},
   "outputs": [],
   "source": [
    "def scrap_time_change(t : str):\n",
    "    return int(t.split(':')[0])\n",
    "\n",
    "def flights_hours_change(t : str):\n",
    "    tt = scrap_time_change(t)\n",
    "    if (tt < 6):\n",
    "        return 'night'\n",
    "    elif (tt < 12):\n",
    "        return 'morning'\n",
    "    elif (tt < 18):\n",
    "        return 'afternoon'\n",
    "    elif (tt < 24):\n",
    "        return 'evening'"
   ]
  },
  {
   "cell_type": "code",
   "execution_count": 22,
   "metadata": {},
   "outputs": [],
   "source": [
    "filepath = \"2019-05-15.txt,2019-05-16.txt,2019-05-17.txt,2019-05-18.txt,2019-05-19.txt\"\n",
    "\n",
    "#country_from = 'Austria'\n",
    "#country_to = 'Italy'\n",
    "\n",
    "flightsRDD = sc.textFile(filepath)\n",
    "header = flightsRDD.first()\n",
    "filtered = flightsRDD.filter(lambda line: line != header)\n",
    "#filtered = filtered.filter(lambda line : (line.split(';')[2] == country_from) & (line.split(';')[3] == country_to))\n",
    "parts = filtered.map(lambda line: line.split(';'))\n",
    "\n",
    "\n",
    "flights = parts.map(lambda p:\n",
    "                   Row(Scrap_date = p[0],\n",
    "                       Scrap_time = scrap_time_change(p[1]),\n",
    "                       Country_from = p[2],\n",
    "                       Country_to = p[3],\n",
    "                       Flight_id = int(p[4]),\n",
    "                       There_or_Back = p[5],\n",
    "                       Flight_date = p[6],\n",
    "                       Airline = p[7],\n",
    "                       Change = int(p[8]),\n",
    "                       Price = float(p[9]),\n",
    "                       Depart_hour = flights_hours_change(p[10]),\n",
    "                       Depart_from = p[11],\n",
    "                       Arrival_hour = flights_hours_change(p[12]),\n",
    "                       Arrive_to = p[13]\n",
    "                      ))\n",
    "\n",
    "sqlContext = SQLContext(sc)\n",
    "dt = sqlContext.createDataFrame(flights)\n",
    "dt.registerTempTable(\"flights\")\n",
    "\n",
    "timeFmt1 = \"yyyy-MM-dd\"\n",
    "timeFmt2 = \"dd/MM/yy\"\n",
    "timeDiff = ((F.unix_timestamp('Flight_date', format=timeFmt2)\n",
    "            - F.unix_timestamp('Scrap_date', format=timeFmt1)) / (24 * 3600)).cast(IntegerType())\n",
    "dt = dt.withColumn(\"Days\", timeDiff)\n",
    "\n",
    "tt = (F.unix_timestamp('Flight_date', format=timeFmt2) / (24 * 3600)).cast(IntegerType())\n",
    "dt = dt.withColumn(\"Flight_date_val\", tt)\n",
    "#dt = dt.drop(*['Flight_date', 'Scrap_date'])\n",
    "df = dt"
   ]
  },
  {
   "cell_type": "markdown",
   "metadata": {},
   "source": [
    "Na początku grupuję po \"Scrap_date\", \"Scrap_time\", \"Flight_id\", \"There_or_back\" i agreguję oddzielnie dla There i Back dla każdej podróży z osobna."
   ]
  },
  {
   "cell_type": "code",
   "execution_count": 23,
   "metadata": {},
   "outputs": [],
   "source": [
    "dff = df.groupBy([\"Scrap_date\", \"Scrap_time\", \"Country_From\", \"Country_to\", \"Flight_id\", \"There_or_back\"]).agg(\n",
    "    F.first(df.Days).alias(\"Days\"),\n",
    "    F.first(df.Flight_date_val).alias(\"Flight_date_val\"), #Z tego co widzialem to przesiadki sa tego samego dnia\n",
    "    F.first(df.Airline).alias('Airline1'),\n",
    "    F.when(F.first(df.Depart_from) != F.last(df.Depart_from), F.last(df.Airline)).otherwise('none').alias('Airline2'),\n",
    "    F.first(df.Price).alias('Price1'),\n",
    "    F.when(F.first(df.Depart_from) != F.last(df.Depart_from), F.last(df.Price)).otherwise(0).alias('Price2'),\n",
    "    F.first(df.Depart_hour).alias('Depart_hour1'),\n",
    "    F.when(F.first(df.Depart_from) != F.last(df.Depart_from), F.last(df.Depart_hour)).otherwise('none').alias('Depart_hour2'),\n",
    "    F.first(df.Depart_from).alias('Depart_from1'),\n",
    "    F.when(F.first(df.Depart_from) != F.last(df.Depart_from), F.last(df.Depart_from)).otherwise('none').alias('Depart_from2'),\n",
    "    F.first(df.Arrival_hour).alias('Arrival_hour1'),\n",
    "    F.when(F.first(df.Depart_from) != F.last(df.Depart_from), F.last(df.Arrival_hour)).otherwise('none').alias('Arrival_hour2'),\n",
    "    F.first(df.Arrive_to).alias('Arrive_to1'),\n",
    "    F.when(F.first(df.Depart_from) != F.last(df.Depart_from), F.last(df.Arrive_to)).otherwise('none').alias('Arrive_to2')\n",
    "    )"
   ]
  },
  {
   "cell_type": "markdown",
   "metadata": {},
   "source": [
    "Natępnie grupuję po \"Scrap_date\", \"Scrap_time\", \"Flight_id\" i robię z There i Back jeden wiersz dla każdej podróży."
   ]
  },
  {
   "cell_type": "code",
   "execution_count": 24,
   "metadata": {},
   "outputs": [],
   "source": [
    "dff_final = dff.groupBy([\"Scrap_date\", \"Scrap_time\", \"Country_From\", \"Country_to\", \"Flight_id\"]).agg(\n",
    "F.when(F.first(dff.There_or_back) == 'There', F.first(dff.Days)).otherwise(F.last(dff.Days)).alias('Days'),\n",
    "    \n",
    "(F.when(F.first(dff.There_or_back) == 'Back', F.first(dff.Flight_date_val)).otherwise(F.last(dff.Flight_date_val)) -\n",
    "F.when(F.first(dff.There_or_back) == 'There', F.first(dff.Flight_date_val)).otherwise(F.last(dff.Flight_date_val))).alias('Journey_time'),\n",
    "    \n",
    "F.when(F.first(dff.There_or_back) == 'There', F.first(dff.Airline1)).otherwise(F.last(dff.Airline1)).alias('Airline1_There'),\n",
    "F.when(F.first(dff.There_or_back) == 'Back', F.first(dff.Airline1)).otherwise(F.last(dff.Airline1)).alias('Airline1_Back'),\n",
    "F.when(F.first(dff.There_or_back) == 'There', F.first(dff.Airline2)).otherwise(F.last(dff.Airline2)).alias('Airline2_There'),\n",
    "F.when(F.first(dff.There_or_back) == 'Back', F.first(dff.Airline2)).otherwise(F.last(dff.Airline2)).alias('Airline2_Back'),\n",
    "F.when(F.first(dff.There_or_back) == 'There', F.first(dff.Price1)).otherwise(F.last(dff.Price1)).alias('Price1_There'),\n",
    "F.when(F.first(dff.There_or_back) == 'Back', F.first(dff.Price1)).otherwise(F.last(dff.Price1)).alias('Price1_Back'),\n",
    "F.when(F.first(dff.There_or_back) == 'There', F.first(dff.Price2)).otherwise(F.last(dff.Price2)).alias('Price2_There'),\n",
    "F.when(F.first(dff.There_or_back) == 'Back', F.first(dff.Price2)).otherwise(F.last(dff.Price2)).alias('Price2_Back'),\n",
    "F.when(F.first(dff.There_or_back) == 'There', F.first(dff.Depart_hour1)).otherwise(F.last(dff.Depart_hour1)).alias('Depart_hour1_There'),\n",
    "F.when(F.first(dff.There_or_back) == 'Back', F.first(dff.Depart_hour1)).otherwise(F.last(dff.Depart_hour1)).alias('Depart_hour1_Back'),\n",
    "F.when(F.first(dff.There_or_back) == 'There', F.first(dff.Depart_hour2)).otherwise(F.last(dff.Depart_hour2)).alias('Depart_hour2_There'),\n",
    "F.when(F.first(dff.There_or_back) == 'Back', F.first(dff.Depart_hour2)).otherwise(F.last(dff.Depart_hour2)).alias('Depart_hour2_Back'),\n",
    "F.when(F.first(dff.There_or_back) == 'There', F.first(dff.Depart_from1)).otherwise(F.last(dff.Depart_from1)).alias('Depart_from1_There'),\n",
    "F.when(F.first(dff.There_or_back) == 'Back', F.first(dff.Depart_from1)).otherwise(F.last(dff.Depart_from1)).alias('Depart_from1_Back'),\n",
    "F.when(F.first(dff.There_or_back) == 'There', F.first(dff.Depart_from2)).otherwise(F.last(dff.Depart_from2)).alias('Depart_from2_There'),\n",
    "F.when(F.first(dff.There_or_back) == 'Back', F.first(dff.Depart_from2)).otherwise(F.last(dff.Depart_from2)).alias('Depart_from2_Back'),\n",
    "F.when(F.first(dff.There_or_back) == 'There', F.first(dff.Arrival_hour1)).otherwise(F.last(dff.Arrival_hour1)).alias('Arrival_hour1_There'),\n",
    "F.when(F.first(dff.There_or_back) == 'Back', F.first(dff.Arrival_hour1)).otherwise(F.last(dff.Arrival_hour1)).alias('Arrival_hour1_Back'),\n",
    "F.when(F.first(dff.There_or_back) == 'There', F.first(dff.Arrival_hour2)).otherwise(F.last(dff.Arrival_hour2)).alias('Arrival_hour2_There'),\n",
    "F.when(F.first(dff.There_or_back) == 'Back', F.first(dff.Arrival_hour2)).otherwise(F.last(dff.Arrival_hour2)).alias('Arrival_hour2_Back'),\n",
    "F.when(F.first(dff.There_or_back) == 'There', F.first(dff.Arrive_to1)).otherwise(F.last(dff.Arrive_to1)).alias('Arrive_to1_There'),\n",
    "F.when(F.first(dff.There_or_back) == 'Back', F.first(dff.Arrive_to1)).otherwise(F.last(dff.Arrive_to1)).alias('Arrive_to1_Back'),\n",
    "F.when(F.first(dff.There_or_back) == 'There', F.first(dff.Arrive_to2)).otherwise(F.last(dff.Arrive_to2)).alias('Arrive_to2_There'),\n",
    "F.when(F.first(dff.There_or_back) == 'Back', F.first(dff.Arrive_to2)).otherwise(F.last(dff.Arrive_to2)).alias('Arrive_to2_Back')\n",
    ")"
   ]
  },
  {
   "cell_type": "code",
   "execution_count": 25,
   "metadata": {},
   "outputs": [],
   "source": [
    "dff_final = dff_final.drop(*['Scrap_date', 'Flight_id'])\n",
    "dff_final = dff_final.withColumn('Full_Price', dff_final['Price1_There'] + dff_final['Price2_There'] + \n",
    "                                                dff_final['Price1_Back'] + dff_final['Price2_Back'])\n",
    "dff_final = dff_final.dropDuplicates()"
   ]
  },
  {
   "cell_type": "code",
   "execution_count": 26,
   "metadata": {},
   "outputs": [
    {
     "name": "stdout",
     "output_type": "stream",
     "text": [
      "+----------+------------+----------+----+------------+--------------+-------------+--------------+-------------+------------+-----------+------------+-----------+------------------+-----------------+------------------+-----------------+--------------------+--------------------+--------------------+--------------------+-------------------+------------------+-------------------+------------------+--------------------+--------------------+--------------------+--------------------+------------------+\n",
      "|Scrap_time|Country_From|Country_to|Days|Journey_time|Airline1_There|Airline1_Back|Airline2_There|Airline2_Back|Price1_There|Price1_Back|Price2_There|Price2_Back|Depart_hour1_There|Depart_hour1_Back|Depart_hour2_There|Depart_hour2_Back|  Depart_from1_There|   Depart_from1_Back|  Depart_from2_There|   Depart_from2_Back|Arrival_hour1_There|Arrival_hour1_Back|Arrival_hour2_There|Arrival_hour2_Back|    Arrive_to1_There|     Arrive_to1_Back|    Arrive_to2_There|     Arrive_to2_Back|        Full_Price|\n",
      "+----------+------------+----------+----+------------+--------------+-------------+--------------+-------------+------------+-----------+------------+-----------+------------------+-----------------+------------------+-----------------+--------------------+--------------------+--------------------+--------------------+-------------------+------------------+-------------------+------------------+--------------------+--------------------+--------------------+--------------------+------------------+\n",
      "|         2|     Denmark|     Italy|  20|           6|       easyJet|      Ryanair|          none|      Ryanair|       10.25|       8.99|         0.0|      17.17|           evening|          morning|              none|          evening|      Copenhagen CPH|Milan MXPMilan (M...|                none|London STNLondon ...|            evening|           morning|               none|           evening|Milan MXPMilan (M...|London STNLondon ...|                none|      Copenhagen CPH|36.410000000000004|\n",
      "|         5|      Russia|    Norway| 110|           5|     airBaltic|    norwegian|     norwegian|    airBaltic|       48.99|      50.91|       39.95|      38.99|             night|          morning|         afternoon|          evening|      Kaliningra KGD|       Trondheim TRD|            Riga RIX|            Riga RIX|            morning|         afternoon|          afternoon|           evening|      Riga RIX BT455|     Riga RIX DY1078|       Trondheim TRD|      Kaliningra KGD|            178.84|\n",
      "|         8|     Belgium|    Russia| 191|           5|       Ryanair|     Wizz Air|      Wizz Air|      Ryanair|       20.39|      44.99|        47.4|      19.03|         afternoon|          morning|         afternoon|          evening|Brussels CRLBruss...|Moscow VKOMoscow ...|        Budapest BUD|        Budapest BUD|          afternoon|           morning|            evening|           evening| Budapest BUD FR8416| Budapest BUD W62490|Moscow VKOMoscow ...|Brussels CRLBruss...|            131.81|\n",
      "|        16|      Greece|    Norway| 167|           8|       Ryanair|      Ryanair|     norwegian|      Ryanair|       24.99|       2.84|        43.9|      41.93|           morning|          morning|           evening|        afternoon|      Thessaloni SKG|Oslo OSLOslo (Gar...|Berlin SXFBerlin ...|London STNLondon ...|            morning|           morning|            evening|           evening|Berlin SXFBerlin ...|London STNLondon ...|Oslo OSLOslo (Gar...|      Thessaloni SKG|            113.66|\n",
      "|        22|      Poland|   Belgium|  19|           7|       Ryanair|      Ryanair|       Ryanair|      Ryanair|        9.06|      14.99|       14.99|       9.99|         afternoon|          morning|         afternoon|          morning|        Katowice KTW|Brussels CRLBruss...|Milan BGYMilan (B...|Milan BGYMilan (B...|          afternoon|           morning|          afternoon|         afternoon|Milan BGYMilan (B...|Milan BGYMilan (B...|Brussels CRLBruss...|        Katowice KTW|             49.03|\n",
      "|        23|      Russia|     Italy| 192|           4|        Pobeda|       Pobeda|          none|         none|       45.05|      68.61|         0.0|        0.0|           morning|        afternoon|              none|             none|Moscow VKOMoscow ...|            Pisa PSA|                none|                none|            morning|         afternoon|               none|              none|            Pisa PSA|Moscow VKOMoscow ...|                none|                none|            113.66|\n",
      "|        20|     Austria|  Portugal| 190|           8|   Laudamotion|      easyJet|          none|      easyJet|       36.71|      10.49|         0.0|      12.59|           morning|          morning|              none|          evening|          Vienna VIE|            Faro FAO|                none|Basel-Mulh BSLBas...|            morning|         afternoon|               none|           evening|            Faro FAO|Basel-Mulh BSLBas...|                none|          Vienna VIE|59.790000000000006|\n",
      "|        21|     Denmark|  Portugal|  38|           8|       Ryanair|      Ryanair|       Ryanair|      Ryanair|       12.88|      19.99|        26.2|       27.2|         afternoon|        afternoon|           evening|          evening|         Billund BLL|            Faro FAO|      Manchester MAN|London STNLondon ...|          afternoon|         afternoon|            evening|           evening|Manchester MAN FR...|London STNLondon ...|            Faro FAO|         Billund BLL|             86.27|\n",
      "|        23|      Russia|   Germany| 195|           6|      Wizz Air|       Pobeda|       easyJet|         none|       44.99|      49.14|       20.54|        0.0|           morning|          evening|           evening|             none|Moscow VKOMoscow ...|Berlin TXLBerlin ...|        Budapest BUD|                none|            morning|           evening|            evening|              none| Budapest BUD W62490|Moscow VKOMoscow ...|Berlin TXLBerlin ...|                none|            114.67|\n",
      "|         4|      Poland|   Austria|  57|           5|   Laudamotion|  Laudamotion|          none|         none|        9.05|       9.99|         0.0|        0.0|         afternoon|        afternoon|              none|             none|          Krakow KRK|          Vienna VIE|                none|                none|          afternoon|           evening|               none|              none|          Vienna VIE|          Krakow KRK|                none|                none|             19.04|\n",
      "|         2|     Belgium|   Ireland| 147|           8|       Ryanair|      Ryanair|          none|      easyJet|       24.99|      28.99|         0.0|      11.12|           evening|          morning|              none|          evening|        Brussels BRU|          Dublin DUB|                none|Basel-Mulh BSLBas...|            evening|           morning|               none|           evening|          Dublin DUB|Basel-Mulh BSLBas...|                none|        Brussels BRU|              65.1|\n",
      "|         8|     Denmark|   Croatia|  13|           7|       easyJet|      Ryanair|       easyJet|      Ryanair|       21.75|      22.99|       15.69|      17.26|           morning|        afternoon|         afternoon|          evening|      Copenhagen CPH|           Zadar ZAD|Berlin TXLBerlin ...|London STNLondon ...|            morning|         afternoon|          afternoon|           evening|Berlin TXLBerlin ...|London STNLondon ...|           Zadar ZAD|      Copenhagen CPH|             77.69|\n",
      "|        22|     Ireland|     Spain| 154|           7|       Ryanair|      Ryanair|          none|         none|        31.2|       31.2|         0.0|        0.0|           evening|        afternoon|              none|             none|          Dublin DUB|Barcelona GROBarc...|                none|                none|            evening|           evening|               none|              none|Barcelona GROBarc...|          Dublin DUB|                none|                none|              62.4|\n",
      "|        23|      Poland|   Denmark|  29|           4|       Ryanair|      Ryanair|       easyJet|         none|        9.06|      17.81|       18.21|        0.0|           morning|          evening|           evening|             none|          Krakow KRK|      Copenhagen CPH|Berlin TXLBerlin ...|                none|            morning|             night|            evening|              none|Berlin TXLBerlin ...|          Krakow KRK|      Copenhagen CPH|                none|             45.08|\n",
      "|         8|     Belgium|    Norway|  79|           8|       Ryanair|      Widerøe|       Widerøe|      Ryanair|       24.47|       51.0|        67.0|      36.74|           morning|          morning|           evening|          evening|Brussels CRLBruss...|      Kristiansa KRS|      Copenhagen CPH|      Copenhagen CPH|            morning|           morning|            evening|           evening|Copenhagen CPH FR201|Copenhagen CPH WF262|      Kristiansa KRS|Brussels CRLBruss...|            179.21|\n",
      "|        10|     Ireland|   Denmark|  26|           7|       Ryanair|      Ryanair|       Ryanair|      Ryanair|       17.99|       14.6|       17.18|      20.62|         afternoon|          morning|           evening|          evening|            Cork ORK|      Copenhagen CPH|London STNLondon ...|London STNLondon ...|          afternoon|           morning|            evening|           evening|London STNLondon ...|London STNLondon ...|      Copenhagen CPH|            Cork ORK|             70.39|\n",
      "|         2|     Austria|   Germany| 184|           8|       easyJet|      easyJet|          none|         none|        4.99|      22.37|         0.0|        0.0|           evening|        afternoon|              none|             none|       Innsbruck INN|Berlin TXLBerlin ...|                none|                none|            evening|         afternoon|               none|              none|Berlin TXLBerlin ...|       Innsbruck INN|                none|                none|             27.36|\n",
      "|         4|       Italy|   Austria|  83|           6|   Laudamotion|  Laudamotion|          none|         none|       14.99|      14.99|         0.0|        0.0|           morning|          morning|              none|             none|Milan BGYMilan (B...|          Vienna VIE|                none|                none|            morning|           morning|               none|              none|          Vienna VIE|Milan BGYMilan (B...|                none|                none|             29.98|\n",
      "|         8|     Belgium|   Ireland|   4|           6|       Ryanair|      Ryanair|       Ryanair|         none|       12.99|      19.99|       17.15|        0.0|           morning|          evening|         afternoon|             none|Brussels CRLBruss...|          Dublin DUB|      Manchester MAN|                none|            morning|           evening|            evening|              none|Manchester MAN FR...|Brussels CRLBruss...|          Dublin DUB|                none|50.129999999999995|\n",
      "|        10|      Norway|    Russia| 102|           4|     airBaltic|    airBaltic|     airBaltic|    airBaltic|       71.99|      48.99|       38.99|      58.99|           evening|            night|           evening|        afternoon|       Stavanger SVG|      Kaliningra KGD|            Riga RIX|            Riga RIX|            evening|           morning|            evening|           evening|      Riga RIX BT178|      Riga RIX BT455|      Kaliningra KGD|       Stavanger SVG|            218.96|\n",
      "+----------+------------+----------+----+------------+--------------+-------------+--------------+-------------+------------+-----------+------------+-----------+------------------+-----------------+------------------+-----------------+--------------------+--------------------+--------------------+--------------------+-------------------+------------------+-------------------+------------------+--------------------+--------------------+--------------------+--------------------+------------------+\n",
      "only showing top 20 rows\n",
      "\n"
     ]
    }
   ],
   "source": [
    "dff_final.show()"
   ]
  },
  {
   "cell_type": "markdown",
   "metadata": {},
   "source": [
    "To co jest poniżej to jakieś moje testy i próby, zostawiam to w notatniku, bo może się przydać, jakby jednak coś jeszcze trzeba było zmieniać."
   ]
  },
  {
   "cell_type": "code",
   "execution_count": null,
   "metadata": {},
   "outputs": [],
   "source": []
  },
  {
   "cell_type": "markdown",
   "metadata": {},
   "source": [
    "Tutaj, chce porownac jaka tabele co jest wyswietlana z tabela df. Tak, że jezeli \"Scrap_date\", \"Scrap_time\", \"Flight_id\", \"There_or_back\" w temp są takie same jak w df to wtedy do df w tym miejscu jest dodawana count w nowej kolumnie"
   ]
  },
  {
   "cell_type": "code",
   "execution_count": 91,
   "metadata": {
    "scrolled": true
   },
   "outputs": [
    {
     "ename": "Py4JJavaError",
     "evalue": "An error occurred while calling o3771.showString.\n: org.apache.spark.sql.catalyst.errors.package$TreeNodeException: execute, tree:\nExchange hashpartitioning(Scrap_date#6523, Scrap_time#6524L, Flight_id#6521L, There_or_back#6525, 200)\n+- *(6) HashAggregate(keys=[Scrap_date#6523, Scrap_time#6524L, Flight_id#6521L, There_or_back#6525], functions=[], output=[Scrap_date#6523, Scrap_time#6524L, Flight_id#6521L, There_or_back#6525])\n   +- SortMergeJoin [coalesce(Scrap_date#6523, ), coalesce(Scrap_time#6524L, 0), coalesce(Flight_id#6521L, 0), coalesce(There_or_back#6525, )], [coalesce(Scrap_date#6868, ), coalesce(Scrap_time#6869L, 0), coalesce(Flight_id#6866L, 0), coalesce(There_or_back#6870, )], LeftSemi, ((((Scrap_date#6523 <=> Scrap_date#6868) && (Scrap_time#6524L <=> Scrap_time#6869L)) && (Flight_id#6521L <=> Flight_id#6866L)) && (There_or_back#6525 <=> There_or_back#6870))\n      :- *(2) Sort [coalesce(Scrap_date#6523, ) ASC NULLS FIRST, coalesce(Scrap_time#6524L, 0) ASC NULLS FIRST, coalesce(Flight_id#6521L, 0) ASC NULLS FIRST, coalesce(There_or_back#6525, ) ASC NULLS FIRST], false, 0\n      :  +- Exchange hashpartitioning(coalesce(Scrap_date#6523, ), coalesce(Scrap_time#6524L, 0), coalesce(Flight_id#6521L, 0), coalesce(There_or_back#6525, ), 200)\n      :     +- *(1) Project [Scrap_date#6523, Scrap_time#6524L, Flight_id#6521L, There_or_back#6525]\n      :        +- Scan ExistingRDD[Airline#6512,Arrival_hour#6513,Arrive_to#6514,Change#6515L,Country_from#6516,Country_to#6517,Depart_from#6518,Depart_hour#6519,Flight_date#6520,Flight_id#6521L,Price#6522,Scrap_date#6523,Scrap_time#6524L,There_or_Back#6525]\n      +- *(5) Sort [coalesce(Scrap_date#6868, ) ASC NULLS FIRST, coalesce(Scrap_time#6869L, 0) ASC NULLS FIRST, coalesce(Flight_id#6866L, 0) ASC NULLS FIRST, coalesce(There_or_back#6870, ) ASC NULLS FIRST], false, 0\n         +- Exchange hashpartitioning(coalesce(Scrap_date#6868, ), coalesce(Scrap_time#6869L, 0), coalesce(Flight_id#6866L, 0), coalesce(There_or_back#6870, ), 200)\n            +- *(4) HashAggregate(keys=[Scrap_date#6868, Scrap_time#6869L, Flight_id#6866L, There_or_back#6870], functions=[], output=[Scrap_date#6868, Scrap_time#6869L, Flight_id#6866L, There_or_back#6870])\n               +- Exchange hashpartitioning(Scrap_date#6868, Scrap_time#6869L, Flight_id#6866L, There_or_back#6870, 200)\n                  +- *(3) HashAggregate(keys=[Scrap_date#6868, Scrap_time#6869L, Flight_id#6866L, There_or_back#6870], functions=[], output=[Scrap_date#6868, Scrap_time#6869L, Flight_id#6866L, There_or_back#6870])\n                     +- *(3) Project [Flight_id#6866L, Scrap_date#6868, Scrap_time#6869L, There_or_Back#6870]\n                        +- Scan ExistingRDD[Airline#6857,Arrival_hour#6858,Arrive_to#6859,Change#6860L,Country_from#6861,Country_to#6862,Depart_from#6863,Depart_hour#6864,Flight_date#6865,Flight_id#6866L,Price#6867,Scrap_date#6868,Scrap_time#6869L,There_or_Back#6870]\n\r\n\tat org.apache.spark.sql.catalyst.errors.package$.attachTree(package.scala:56)\r\n\tat org.apache.spark.sql.execution.exchange.ShuffleExchangeExec.doExecute(ShuffleExchangeExec.scala:119)\r\n\tat org.apache.spark.sql.execution.SparkPlan$$anonfun$execute$1.apply(SparkPlan.scala:131)\r\n\tat org.apache.spark.sql.execution.SparkPlan$$anonfun$execute$1.apply(SparkPlan.scala:127)\r\n\tat org.apache.spark.sql.execution.SparkPlan$$anonfun$executeQuery$1.apply(SparkPlan.scala:155)\r\n\tat org.apache.spark.rdd.RDDOperationScope$.withScope(RDDOperationScope.scala:151)\r\n\tat org.apache.spark.sql.execution.SparkPlan.executeQuery(SparkPlan.scala:152)\r\n\tat org.apache.spark.sql.execution.SparkPlan.execute(SparkPlan.scala:127)\r\n\tat org.apache.spark.sql.execution.InputAdapter.inputRDDs(WholeStageCodegenExec.scala:391)\r\n\tat org.apache.spark.sql.execution.aggregate.HashAggregateExec.inputRDDs(HashAggregateExec.scala:151)\r\n\tat org.apache.spark.sql.execution.WholeStageCodegenExec.doExecute(WholeStageCodegenExec.scala:627)\r\n\tat org.apache.spark.sql.execution.SparkPlan$$anonfun$execute$1.apply(SparkPlan.scala:131)\r\n\tat org.apache.spark.sql.execution.SparkPlan$$anonfun$execute$1.apply(SparkPlan.scala:127)\r\n\tat org.apache.spark.sql.execution.SparkPlan$$anonfun$executeQuery$1.apply(SparkPlan.scala:155)\r\n\tat org.apache.spark.rdd.RDDOperationScope$.withScope(RDDOperationScope.scala:151)\r\n\tat org.apache.spark.sql.execution.SparkPlan.executeQuery(SparkPlan.scala:152)\r\n\tat org.apache.spark.sql.execution.SparkPlan.execute(SparkPlan.scala:127)\r\n\tat org.apache.spark.sql.execution.SparkPlan.getByteArrayRdd(SparkPlan.scala:247)\r\n\tat org.apache.spark.sql.execution.SparkPlan.executeTake(SparkPlan.scala:339)\r\n\tat org.apache.spark.sql.execution.CollectLimitExec.executeCollect(limit.scala:38)\r\n\tat org.apache.spark.sql.Dataset.org$apache$spark$sql$Dataset$$collectFromPlan(Dataset.scala:3383)\r\n\tat org.apache.spark.sql.Dataset$$anonfun$head$1.apply(Dataset.scala:2544)\r\n\tat org.apache.spark.sql.Dataset$$anonfun$head$1.apply(Dataset.scala:2544)\r\n\tat org.apache.spark.sql.Dataset$$anonfun$53.apply(Dataset.scala:3364)\r\n\tat org.apache.spark.sql.execution.SQLExecution$$anonfun$withNewExecutionId$1.apply(SQLExecution.scala:78)\r\n\tat org.apache.spark.sql.execution.SQLExecution$.withSQLConfPropagated(SQLExecution.scala:125)\r\n\tat org.apache.spark.sql.execution.SQLExecution$.withNewExecutionId(SQLExecution.scala:73)\r\n\tat org.apache.spark.sql.Dataset.withAction(Dataset.scala:3363)\r\n\tat org.apache.spark.sql.Dataset.head(Dataset.scala:2544)\r\n\tat org.apache.spark.sql.Dataset.take(Dataset.scala:2758)\r\n\tat org.apache.spark.sql.Dataset.getRows(Dataset.scala:254)\r\n\tat org.apache.spark.sql.Dataset.showString(Dataset.scala:291)\r\n\tat java.base/jdk.internal.reflect.NativeMethodAccessorImpl.invoke0(Native Method)\r\n\tat java.base/jdk.internal.reflect.NativeMethodAccessorImpl.invoke(NativeMethodAccessorImpl.java:62)\r\n\tat java.base/jdk.internal.reflect.DelegatingMethodAccessorImpl.invoke(DelegatingMethodAccessorImpl.java:43)\r\n\tat java.base/java.lang.reflect.Method.invoke(Method.java:566)\r\n\tat py4j.reflection.MethodInvoker.invoke(MethodInvoker.java:244)\r\n\tat py4j.reflection.ReflectionEngine.invoke(ReflectionEngine.java:357)\r\n\tat py4j.Gateway.invoke(Gateway.java:282)\r\n\tat py4j.commands.AbstractCommand.invokeMethod(AbstractCommand.java:132)\r\n\tat py4j.commands.CallCommand.execute(CallCommand.java:79)\r\n\tat py4j.GatewayConnection.run(GatewayConnection.java:238)\r\n\tat java.base/java.lang.Thread.run(Thread.java:834)\r\nCaused by: java.lang.IllegalArgumentException: Unsupported class file major version 55\r\n\tat org.apache.xbean.asm6.ClassReader.<init>(ClassReader.java:166)\r\n\tat org.apache.xbean.asm6.ClassReader.<init>(ClassReader.java:148)\r\n\tat org.apache.xbean.asm6.ClassReader.<init>(ClassReader.java:136)\r\n\tat org.apache.xbean.asm6.ClassReader.<init>(ClassReader.java:237)\r\n\tat org.apache.spark.util.ClosureCleaner$.getClassReader(ClosureCleaner.scala:49)\r\n\tat org.apache.spark.util.FieldAccessFinder$$anon$3$$anonfun$visitMethodInsn$2.apply(ClosureCleaner.scala:517)\r\n\tat org.apache.spark.util.FieldAccessFinder$$anon$3$$anonfun$visitMethodInsn$2.apply(ClosureCleaner.scala:500)\r\n\tat scala.collection.TraversableLike$WithFilter$$anonfun$foreach$1.apply(TraversableLike.scala:733)\r\n\tat scala.collection.mutable.HashMap$$anon$1$$anonfun$foreach$2.apply(HashMap.scala:134)\r\n\tat scala.collection.mutable.HashMap$$anon$1$$anonfun$foreach$2.apply(HashMap.scala:134)\r\n\tat scala.collection.mutable.HashTable$class.foreachEntry(HashTable.scala:236)\r\n\tat scala.collection.mutable.HashMap.foreachEntry(HashMap.scala:40)\r\n\tat scala.collection.mutable.HashMap$$anon$1.foreach(HashMap.scala:134)\r\n\tat scala.collection.TraversableLike$WithFilter.foreach(TraversableLike.scala:732)\r\n\tat org.apache.spark.util.FieldAccessFinder$$anon$3.visitMethodInsn(ClosureCleaner.scala:500)\r\n\tat org.apache.xbean.asm6.ClassReader.readCode(ClassReader.java:2175)\r\n\tat org.apache.xbean.asm6.ClassReader.readMethod(ClassReader.java:1238)\r\n\tat org.apache.xbean.asm6.ClassReader.accept(ClassReader.java:631)\r\n\tat org.apache.xbean.asm6.ClassReader.accept(ClassReader.java:355)\r\n\tat org.apache.spark.util.ClosureCleaner$$anonfun$org$apache$spark$util$ClosureCleaner$$clean$14.apply(ClosureCleaner.scala:307)\r\n\tat org.apache.spark.util.ClosureCleaner$$anonfun$org$apache$spark$util$ClosureCleaner$$clean$14.apply(ClosureCleaner.scala:306)\r\n\tat scala.collection.immutable.List.foreach(List.scala:392)\r\n\tat org.apache.spark.util.ClosureCleaner$.org$apache$spark$util$ClosureCleaner$$clean(ClosureCleaner.scala:306)\r\n\tat org.apache.spark.util.ClosureCleaner$.clean(ClosureCleaner.scala:162)\r\n\tat org.apache.spark.SparkContext.clean(SparkContext.scala:2326)\r\n\tat org.apache.spark.rdd.RDD$$anonfun$zipPartitions$1.apply(RDD.scala:886)\r\n\tat org.apache.spark.rdd.RDD$$anonfun$zipPartitions$1.apply(RDD.scala:886)\r\n\tat org.apache.spark.rdd.RDDOperationScope$.withScope(RDDOperationScope.scala:151)\r\n\tat org.apache.spark.rdd.RDDOperationScope$.withScope(RDDOperationScope.scala:112)\r\n\tat org.apache.spark.rdd.RDD.withScope(RDD.scala:363)\r\n\tat org.apache.spark.rdd.RDD.zipPartitions(RDD.scala:885)\r\n\tat org.apache.spark.rdd.RDD$$anonfun$zipPartitions$2.apply(RDD.scala:892)\r\n\tat org.apache.spark.rdd.RDD$$anonfun$zipPartitions$2.apply(RDD.scala:892)\r\n\tat org.apache.spark.rdd.RDDOperationScope$.withScope(RDDOperationScope.scala:151)\r\n\tat org.apache.spark.rdd.RDDOperationScope$.withScope(RDDOperationScope.scala:112)\r\n\tat org.apache.spark.rdd.RDD.withScope(RDD.scala:363)\r\n\tat org.apache.spark.rdd.RDD.zipPartitions(RDD.scala:891)\r\n\tat org.apache.spark.sql.execution.joins.SortMergeJoinExec.doExecute(SortMergeJoinExec.scala:150)\r\n\tat org.apache.spark.sql.execution.SparkPlan$$anonfun$execute$1.apply(SparkPlan.scala:131)\r\n\tat org.apache.spark.sql.execution.SparkPlan$$anonfun$execute$1.apply(SparkPlan.scala:127)\r\n\tat org.apache.spark.sql.execution.SparkPlan$$anonfun$executeQuery$1.apply(SparkPlan.scala:155)\r\n\tat org.apache.spark.rdd.RDDOperationScope$.withScope(RDDOperationScope.scala:151)\r\n\tat org.apache.spark.sql.execution.SparkPlan.executeQuery(SparkPlan.scala:152)\r\n\tat org.apache.spark.sql.execution.SparkPlan.execute(SparkPlan.scala:127)\r\n\tat org.apache.spark.sql.execution.InputAdapter.inputRDDs(WholeStageCodegenExec.scala:391)\r\n\tat org.apache.spark.sql.execution.aggregate.HashAggregateExec.inputRDDs(HashAggregateExec.scala:151)\r\n\tat org.apache.spark.sql.execution.WholeStageCodegenExec.doExecute(WholeStageCodegenExec.scala:627)\r\n\tat org.apache.spark.sql.execution.SparkPlan$$anonfun$execute$1.apply(SparkPlan.scala:131)\r\n\tat org.apache.spark.sql.execution.SparkPlan$$anonfun$execute$1.apply(SparkPlan.scala:127)\r\n\tat org.apache.spark.sql.execution.SparkPlan$$anonfun$executeQuery$1.apply(SparkPlan.scala:155)\r\n\tat org.apache.spark.rdd.RDDOperationScope$.withScope(RDDOperationScope.scala:151)\r\n\tat org.apache.spark.sql.execution.SparkPlan.executeQuery(SparkPlan.scala:152)\r\n\tat org.apache.spark.sql.execution.SparkPlan.execute(SparkPlan.scala:127)\r\n\tat org.apache.spark.sql.execution.exchange.ShuffleExchangeExec.prepareShuffleDependency(ShuffleExchangeExec.scala:92)\r\n\tat org.apache.spark.sql.execution.exchange.ShuffleExchangeExec$$anonfun$doExecute$1.apply(ShuffleExchangeExec.scala:128)\r\n\tat org.apache.spark.sql.execution.exchange.ShuffleExchangeExec$$anonfun$doExecute$1.apply(ShuffleExchangeExec.scala:119)\r\n\tat org.apache.spark.sql.catalyst.errors.package$.attachTree(package.scala:52)\r\n\t... 42 more\r\n",
     "output_type": "error",
     "traceback": [
      "\u001b[1;31m---------------------------------------------------------------------------\u001b[0m",
      "\u001b[1;31mPy4JJavaError\u001b[0m                             Traceback (most recent call last)",
      "\u001b[1;32m<ipython-input-91-e8656931edce>\u001b[0m in \u001b[0;36m<module>\u001b[1;34m\u001b[0m\n\u001b[0;32m      3\u001b[0m \u001b[0mdf\u001b[0m \u001b[1;33m=\u001b[0m \u001b[0mdf\u001b[0m\u001b[1;33m.\u001b[0m\u001b[0mwithColumn\u001b[0m\u001b[1;33m(\u001b[0m\u001b[1;34m'Change_temp'\u001b[0m\u001b[1;33m,\u001b[0m \u001b[0mF\u001b[0m\u001b[1;33m.\u001b[0m\u001b[0mlit\u001b[0m\u001b[1;33m(\u001b[0m\u001b[1;36m0\u001b[0m\u001b[1;33m)\u001b[0m\u001b[1;33m)\u001b[0m\u001b[1;33m\u001b[0m\u001b[1;33m\u001b[0m\u001b[0m\n\u001b[0;32m      4\u001b[0m df.select([\"Scrap_date\", \"Scrap_time\", \"Flight_id\", \"There_or_back\"]).intersect(\n\u001b[1;32m----> 5\u001b[1;33m     temp.select([\"Scrap_date\", \"Scrap_time\", \"Flight_id\", \"There_or_back\"])).show()\n\u001b[0m\u001b[0;32m      6\u001b[0m \u001b[1;31m#df = df.agg(F.sum(df.Price).alias(\"Price_sum\"))\u001b[0m\u001b[1;33m\u001b[0m\u001b[1;33m\u001b[0m\u001b[1;33m\u001b[0m\u001b[0m\n\u001b[0;32m      7\u001b[0m \u001b[1;31m#df.show()\u001b[0m\u001b[1;33m\u001b[0m\u001b[1;33m\u001b[0m\u001b[1;33m\u001b[0m\u001b[0m\n",
      "\u001b[1;32m~\\Anaconda3\\lib\\site-packages\\pyspark\\sql\\dataframe.py\u001b[0m in \u001b[0;36mshow\u001b[1;34m(self, n, truncate, vertical)\u001b[0m\n\u001b[0;32m    376\u001b[0m         \"\"\"\n\u001b[0;32m    377\u001b[0m         \u001b[1;32mif\u001b[0m \u001b[0misinstance\u001b[0m\u001b[1;33m(\u001b[0m\u001b[0mtruncate\u001b[0m\u001b[1;33m,\u001b[0m \u001b[0mbool\u001b[0m\u001b[1;33m)\u001b[0m \u001b[1;32mand\u001b[0m \u001b[0mtruncate\u001b[0m\u001b[1;33m:\u001b[0m\u001b[1;33m\u001b[0m\u001b[1;33m\u001b[0m\u001b[0m\n\u001b[1;32m--> 378\u001b[1;33m             \u001b[0mprint\u001b[0m\u001b[1;33m(\u001b[0m\u001b[0mself\u001b[0m\u001b[1;33m.\u001b[0m\u001b[0m_jdf\u001b[0m\u001b[1;33m.\u001b[0m\u001b[0mshowString\u001b[0m\u001b[1;33m(\u001b[0m\u001b[0mn\u001b[0m\u001b[1;33m,\u001b[0m \u001b[1;36m20\u001b[0m\u001b[1;33m,\u001b[0m \u001b[0mvertical\u001b[0m\u001b[1;33m)\u001b[0m\u001b[1;33m)\u001b[0m\u001b[1;33m\u001b[0m\u001b[1;33m\u001b[0m\u001b[0m\n\u001b[0m\u001b[0;32m    379\u001b[0m         \u001b[1;32melse\u001b[0m\u001b[1;33m:\u001b[0m\u001b[1;33m\u001b[0m\u001b[1;33m\u001b[0m\u001b[0m\n\u001b[0;32m    380\u001b[0m             \u001b[0mprint\u001b[0m\u001b[1;33m(\u001b[0m\u001b[0mself\u001b[0m\u001b[1;33m.\u001b[0m\u001b[0m_jdf\u001b[0m\u001b[1;33m.\u001b[0m\u001b[0mshowString\u001b[0m\u001b[1;33m(\u001b[0m\u001b[0mn\u001b[0m\u001b[1;33m,\u001b[0m \u001b[0mint\u001b[0m\u001b[1;33m(\u001b[0m\u001b[0mtruncate\u001b[0m\u001b[1;33m)\u001b[0m\u001b[1;33m,\u001b[0m \u001b[0mvertical\u001b[0m\u001b[1;33m)\u001b[0m\u001b[1;33m)\u001b[0m\u001b[1;33m\u001b[0m\u001b[1;33m\u001b[0m\u001b[0m\n",
      "\u001b[1;32m~\\Anaconda3\\lib\\site-packages\\py4j\\java_gateway.py\u001b[0m in \u001b[0;36m__call__\u001b[1;34m(self, *args)\u001b[0m\n\u001b[0;32m   1255\u001b[0m         \u001b[0manswer\u001b[0m \u001b[1;33m=\u001b[0m \u001b[0mself\u001b[0m\u001b[1;33m.\u001b[0m\u001b[0mgateway_client\u001b[0m\u001b[1;33m.\u001b[0m\u001b[0msend_command\u001b[0m\u001b[1;33m(\u001b[0m\u001b[0mcommand\u001b[0m\u001b[1;33m)\u001b[0m\u001b[1;33m\u001b[0m\u001b[1;33m\u001b[0m\u001b[0m\n\u001b[0;32m   1256\u001b[0m         return_value = get_return_value(\n\u001b[1;32m-> 1257\u001b[1;33m             answer, self.gateway_client, self.target_id, self.name)\n\u001b[0m\u001b[0;32m   1258\u001b[0m \u001b[1;33m\u001b[0m\u001b[0m\n\u001b[0;32m   1259\u001b[0m         \u001b[1;32mfor\u001b[0m \u001b[0mtemp_arg\u001b[0m \u001b[1;32min\u001b[0m \u001b[0mtemp_args\u001b[0m\u001b[1;33m:\u001b[0m\u001b[1;33m\u001b[0m\u001b[1;33m\u001b[0m\u001b[0m\n",
      "\u001b[1;32m~\\Anaconda3\\lib\\site-packages\\pyspark\\sql\\utils.py\u001b[0m in \u001b[0;36mdeco\u001b[1;34m(*a, **kw)\u001b[0m\n\u001b[0;32m     61\u001b[0m     \u001b[1;32mdef\u001b[0m \u001b[0mdeco\u001b[0m\u001b[1;33m(\u001b[0m\u001b[1;33m*\u001b[0m\u001b[0ma\u001b[0m\u001b[1;33m,\u001b[0m \u001b[1;33m**\u001b[0m\u001b[0mkw\u001b[0m\u001b[1;33m)\u001b[0m\u001b[1;33m:\u001b[0m\u001b[1;33m\u001b[0m\u001b[1;33m\u001b[0m\u001b[0m\n\u001b[0;32m     62\u001b[0m         \u001b[1;32mtry\u001b[0m\u001b[1;33m:\u001b[0m\u001b[1;33m\u001b[0m\u001b[1;33m\u001b[0m\u001b[0m\n\u001b[1;32m---> 63\u001b[1;33m             \u001b[1;32mreturn\u001b[0m \u001b[0mf\u001b[0m\u001b[1;33m(\u001b[0m\u001b[1;33m*\u001b[0m\u001b[0ma\u001b[0m\u001b[1;33m,\u001b[0m \u001b[1;33m**\u001b[0m\u001b[0mkw\u001b[0m\u001b[1;33m)\u001b[0m\u001b[1;33m\u001b[0m\u001b[1;33m\u001b[0m\u001b[0m\n\u001b[0m\u001b[0;32m     64\u001b[0m         \u001b[1;32mexcept\u001b[0m \u001b[0mpy4j\u001b[0m\u001b[1;33m.\u001b[0m\u001b[0mprotocol\u001b[0m\u001b[1;33m.\u001b[0m\u001b[0mPy4JJavaError\u001b[0m \u001b[1;32mas\u001b[0m \u001b[0me\u001b[0m\u001b[1;33m:\u001b[0m\u001b[1;33m\u001b[0m\u001b[1;33m\u001b[0m\u001b[0m\n\u001b[0;32m     65\u001b[0m             \u001b[0ms\u001b[0m \u001b[1;33m=\u001b[0m \u001b[0me\u001b[0m\u001b[1;33m.\u001b[0m\u001b[0mjava_exception\u001b[0m\u001b[1;33m.\u001b[0m\u001b[0mtoString\u001b[0m\u001b[1;33m(\u001b[0m\u001b[1;33m)\u001b[0m\u001b[1;33m\u001b[0m\u001b[1;33m\u001b[0m\u001b[0m\n",
      "\u001b[1;32m~\\Anaconda3\\lib\\site-packages\\py4j\\protocol.py\u001b[0m in \u001b[0;36mget_return_value\u001b[1;34m(answer, gateway_client, target_id, name)\u001b[0m\n\u001b[0;32m    326\u001b[0m                 raise Py4JJavaError(\n\u001b[0;32m    327\u001b[0m                     \u001b[1;34m\"An error occurred while calling {0}{1}{2}.\\n\"\u001b[0m\u001b[1;33m.\u001b[0m\u001b[1;33m\u001b[0m\u001b[1;33m\u001b[0m\u001b[0m\n\u001b[1;32m--> 328\u001b[1;33m                     format(target_id, \".\", name), value)\n\u001b[0m\u001b[0;32m    329\u001b[0m             \u001b[1;32melse\u001b[0m\u001b[1;33m:\u001b[0m\u001b[1;33m\u001b[0m\u001b[1;33m\u001b[0m\u001b[0m\n\u001b[0;32m    330\u001b[0m                 raise Py4JError(\n",
      "\u001b[1;31mPy4JJavaError\u001b[0m: An error occurred while calling o3771.showString.\n: org.apache.spark.sql.catalyst.errors.package$TreeNodeException: execute, tree:\nExchange hashpartitioning(Scrap_date#6523, Scrap_time#6524L, Flight_id#6521L, There_or_back#6525, 200)\n+- *(6) HashAggregate(keys=[Scrap_date#6523, Scrap_time#6524L, Flight_id#6521L, There_or_back#6525], functions=[], output=[Scrap_date#6523, Scrap_time#6524L, Flight_id#6521L, There_or_back#6525])\n   +- SortMergeJoin [coalesce(Scrap_date#6523, ), coalesce(Scrap_time#6524L, 0), coalesce(Flight_id#6521L, 0), coalesce(There_or_back#6525, )], [coalesce(Scrap_date#6868, ), coalesce(Scrap_time#6869L, 0), coalesce(Flight_id#6866L, 0), coalesce(There_or_back#6870, )], LeftSemi, ((((Scrap_date#6523 <=> Scrap_date#6868) && (Scrap_time#6524L <=> Scrap_time#6869L)) && (Flight_id#6521L <=> Flight_id#6866L)) && (There_or_back#6525 <=> There_or_back#6870))\n      :- *(2) Sort [coalesce(Scrap_date#6523, ) ASC NULLS FIRST, coalesce(Scrap_time#6524L, 0) ASC NULLS FIRST, coalesce(Flight_id#6521L, 0) ASC NULLS FIRST, coalesce(There_or_back#6525, ) ASC NULLS FIRST], false, 0\n      :  +- Exchange hashpartitioning(coalesce(Scrap_date#6523, ), coalesce(Scrap_time#6524L, 0), coalesce(Flight_id#6521L, 0), coalesce(There_or_back#6525, ), 200)\n      :     +- *(1) Project [Scrap_date#6523, Scrap_time#6524L, Flight_id#6521L, There_or_back#6525]\n      :        +- Scan ExistingRDD[Airline#6512,Arrival_hour#6513,Arrive_to#6514,Change#6515L,Country_from#6516,Country_to#6517,Depart_from#6518,Depart_hour#6519,Flight_date#6520,Flight_id#6521L,Price#6522,Scrap_date#6523,Scrap_time#6524L,There_or_Back#6525]\n      +- *(5) Sort [coalesce(Scrap_date#6868, ) ASC NULLS FIRST, coalesce(Scrap_time#6869L, 0) ASC NULLS FIRST, coalesce(Flight_id#6866L, 0) ASC NULLS FIRST, coalesce(There_or_back#6870, ) ASC NULLS FIRST], false, 0\n         +- Exchange hashpartitioning(coalesce(Scrap_date#6868, ), coalesce(Scrap_time#6869L, 0), coalesce(Flight_id#6866L, 0), coalesce(There_or_back#6870, ), 200)\n            +- *(4) HashAggregate(keys=[Scrap_date#6868, Scrap_time#6869L, Flight_id#6866L, There_or_back#6870], functions=[], output=[Scrap_date#6868, Scrap_time#6869L, Flight_id#6866L, There_or_back#6870])\n               +- Exchange hashpartitioning(Scrap_date#6868, Scrap_time#6869L, Flight_id#6866L, There_or_back#6870, 200)\n                  +- *(3) HashAggregate(keys=[Scrap_date#6868, Scrap_time#6869L, Flight_id#6866L, There_or_back#6870], functions=[], output=[Scrap_date#6868, Scrap_time#6869L, Flight_id#6866L, There_or_back#6870])\n                     +- *(3) Project [Flight_id#6866L, Scrap_date#6868, Scrap_time#6869L, There_or_Back#6870]\n                        +- Scan ExistingRDD[Airline#6857,Arrival_hour#6858,Arrive_to#6859,Change#6860L,Country_from#6861,Country_to#6862,Depart_from#6863,Depart_hour#6864,Flight_date#6865,Flight_id#6866L,Price#6867,Scrap_date#6868,Scrap_time#6869L,There_or_Back#6870]\n\r\n\tat org.apache.spark.sql.catalyst.errors.package$.attachTree(package.scala:56)\r\n\tat org.apache.spark.sql.execution.exchange.ShuffleExchangeExec.doExecute(ShuffleExchangeExec.scala:119)\r\n\tat org.apache.spark.sql.execution.SparkPlan$$anonfun$execute$1.apply(SparkPlan.scala:131)\r\n\tat org.apache.spark.sql.execution.SparkPlan$$anonfun$execute$1.apply(SparkPlan.scala:127)\r\n\tat org.apache.spark.sql.execution.SparkPlan$$anonfun$executeQuery$1.apply(SparkPlan.scala:155)\r\n\tat org.apache.spark.rdd.RDDOperationScope$.withScope(RDDOperationScope.scala:151)\r\n\tat org.apache.spark.sql.execution.SparkPlan.executeQuery(SparkPlan.scala:152)\r\n\tat org.apache.spark.sql.execution.SparkPlan.execute(SparkPlan.scala:127)\r\n\tat org.apache.spark.sql.execution.InputAdapter.inputRDDs(WholeStageCodegenExec.scala:391)\r\n\tat org.apache.spark.sql.execution.aggregate.HashAggregateExec.inputRDDs(HashAggregateExec.scala:151)\r\n\tat org.apache.spark.sql.execution.WholeStageCodegenExec.doExecute(WholeStageCodegenExec.scala:627)\r\n\tat org.apache.spark.sql.execution.SparkPlan$$anonfun$execute$1.apply(SparkPlan.scala:131)\r\n\tat org.apache.spark.sql.execution.SparkPlan$$anonfun$execute$1.apply(SparkPlan.scala:127)\r\n\tat org.apache.spark.sql.execution.SparkPlan$$anonfun$executeQuery$1.apply(SparkPlan.scala:155)\r\n\tat org.apache.spark.rdd.RDDOperationScope$.withScope(RDDOperationScope.scala:151)\r\n\tat org.apache.spark.sql.execution.SparkPlan.executeQuery(SparkPlan.scala:152)\r\n\tat org.apache.spark.sql.execution.SparkPlan.execute(SparkPlan.scala:127)\r\n\tat org.apache.spark.sql.execution.SparkPlan.getByteArrayRdd(SparkPlan.scala:247)\r\n\tat org.apache.spark.sql.execution.SparkPlan.executeTake(SparkPlan.scala:339)\r\n\tat org.apache.spark.sql.execution.CollectLimitExec.executeCollect(limit.scala:38)\r\n\tat org.apache.spark.sql.Dataset.org$apache$spark$sql$Dataset$$collectFromPlan(Dataset.scala:3383)\r\n\tat org.apache.spark.sql.Dataset$$anonfun$head$1.apply(Dataset.scala:2544)\r\n\tat org.apache.spark.sql.Dataset$$anonfun$head$1.apply(Dataset.scala:2544)\r\n\tat org.apache.spark.sql.Dataset$$anonfun$53.apply(Dataset.scala:3364)\r\n\tat org.apache.spark.sql.execution.SQLExecution$$anonfun$withNewExecutionId$1.apply(SQLExecution.scala:78)\r\n\tat org.apache.spark.sql.execution.SQLExecution$.withSQLConfPropagated(SQLExecution.scala:125)\r\n\tat org.apache.spark.sql.execution.SQLExecution$.withNewExecutionId(SQLExecution.scala:73)\r\n\tat org.apache.spark.sql.Dataset.withAction(Dataset.scala:3363)\r\n\tat org.apache.spark.sql.Dataset.head(Dataset.scala:2544)\r\n\tat org.apache.spark.sql.Dataset.take(Dataset.scala:2758)\r\n\tat org.apache.spark.sql.Dataset.getRows(Dataset.scala:254)\r\n\tat org.apache.spark.sql.Dataset.showString(Dataset.scala:291)\r\n\tat java.base/jdk.internal.reflect.NativeMethodAccessorImpl.invoke0(Native Method)\r\n\tat java.base/jdk.internal.reflect.NativeMethodAccessorImpl.invoke(NativeMethodAccessorImpl.java:62)\r\n\tat java.base/jdk.internal.reflect.DelegatingMethodAccessorImpl.invoke(DelegatingMethodAccessorImpl.java:43)\r\n\tat java.base/java.lang.reflect.Method.invoke(Method.java:566)\r\n\tat py4j.reflection.MethodInvoker.invoke(MethodInvoker.java:244)\r\n\tat py4j.reflection.ReflectionEngine.invoke(ReflectionEngine.java:357)\r\n\tat py4j.Gateway.invoke(Gateway.java:282)\r\n\tat py4j.commands.AbstractCommand.invokeMethod(AbstractCommand.java:132)\r\n\tat py4j.commands.CallCommand.execute(CallCommand.java:79)\r\n\tat py4j.GatewayConnection.run(GatewayConnection.java:238)\r\n\tat java.base/java.lang.Thread.run(Thread.java:834)\r\nCaused by: java.lang.IllegalArgumentException: Unsupported class file major version 55\r\n\tat org.apache.xbean.asm6.ClassReader.<init>(ClassReader.java:166)\r\n\tat org.apache.xbean.asm6.ClassReader.<init>(ClassReader.java:148)\r\n\tat org.apache.xbean.asm6.ClassReader.<init>(ClassReader.java:136)\r\n\tat org.apache.xbean.asm6.ClassReader.<init>(ClassReader.java:237)\r\n\tat org.apache.spark.util.ClosureCleaner$.getClassReader(ClosureCleaner.scala:49)\r\n\tat org.apache.spark.util.FieldAccessFinder$$anon$3$$anonfun$visitMethodInsn$2.apply(ClosureCleaner.scala:517)\r\n\tat org.apache.spark.util.FieldAccessFinder$$anon$3$$anonfun$visitMethodInsn$2.apply(ClosureCleaner.scala:500)\r\n\tat scala.collection.TraversableLike$WithFilter$$anonfun$foreach$1.apply(TraversableLike.scala:733)\r\n\tat scala.collection.mutable.HashMap$$anon$1$$anonfun$foreach$2.apply(HashMap.scala:134)\r\n\tat scala.collection.mutable.HashMap$$anon$1$$anonfun$foreach$2.apply(HashMap.scala:134)\r\n\tat scala.collection.mutable.HashTable$class.foreachEntry(HashTable.scala:236)\r\n\tat scala.collection.mutable.HashMap.foreachEntry(HashMap.scala:40)\r\n\tat scala.collection.mutable.HashMap$$anon$1.foreach(HashMap.scala:134)\r\n\tat scala.collection.TraversableLike$WithFilter.foreach(TraversableLike.scala:732)\r\n\tat org.apache.spark.util.FieldAccessFinder$$anon$3.visitMethodInsn(ClosureCleaner.scala:500)\r\n\tat org.apache.xbean.asm6.ClassReader.readCode(ClassReader.java:2175)\r\n\tat org.apache.xbean.asm6.ClassReader.readMethod(ClassReader.java:1238)\r\n\tat org.apache.xbean.asm6.ClassReader.accept(ClassReader.java:631)\r\n\tat org.apache.xbean.asm6.ClassReader.accept(ClassReader.java:355)\r\n\tat org.apache.spark.util.ClosureCleaner$$anonfun$org$apache$spark$util$ClosureCleaner$$clean$14.apply(ClosureCleaner.scala:307)\r\n\tat org.apache.spark.util.ClosureCleaner$$anonfun$org$apache$spark$util$ClosureCleaner$$clean$14.apply(ClosureCleaner.scala:306)\r\n\tat scala.collection.immutable.List.foreach(List.scala:392)\r\n\tat org.apache.spark.util.ClosureCleaner$.org$apache$spark$util$ClosureCleaner$$clean(ClosureCleaner.scala:306)\r\n\tat org.apache.spark.util.ClosureCleaner$.clean(ClosureCleaner.scala:162)\r\n\tat org.apache.spark.SparkContext.clean(SparkContext.scala:2326)\r\n\tat org.apache.spark.rdd.RDD$$anonfun$zipPartitions$1.apply(RDD.scala:886)\r\n\tat org.apache.spark.rdd.RDD$$anonfun$zipPartitions$1.apply(RDD.scala:886)\r\n\tat org.apache.spark.rdd.RDDOperationScope$.withScope(RDDOperationScope.scala:151)\r\n\tat org.apache.spark.rdd.RDDOperationScope$.withScope(RDDOperationScope.scala:112)\r\n\tat org.apache.spark.rdd.RDD.withScope(RDD.scala:363)\r\n\tat org.apache.spark.rdd.RDD.zipPartitions(RDD.scala:885)\r\n\tat org.apache.spark.rdd.RDD$$anonfun$zipPartitions$2.apply(RDD.scala:892)\r\n\tat org.apache.spark.rdd.RDD$$anonfun$zipPartitions$2.apply(RDD.scala:892)\r\n\tat org.apache.spark.rdd.RDDOperationScope$.withScope(RDDOperationScope.scala:151)\r\n\tat org.apache.spark.rdd.RDDOperationScope$.withScope(RDDOperationScope.scala:112)\r\n\tat org.apache.spark.rdd.RDD.withScope(RDD.scala:363)\r\n\tat org.apache.spark.rdd.RDD.zipPartitions(RDD.scala:891)\r\n\tat org.apache.spark.sql.execution.joins.SortMergeJoinExec.doExecute(SortMergeJoinExec.scala:150)\r\n\tat org.apache.spark.sql.execution.SparkPlan$$anonfun$execute$1.apply(SparkPlan.scala:131)\r\n\tat org.apache.spark.sql.execution.SparkPlan$$anonfun$execute$1.apply(SparkPlan.scala:127)\r\n\tat org.apache.spark.sql.execution.SparkPlan$$anonfun$executeQuery$1.apply(SparkPlan.scala:155)\r\n\tat org.apache.spark.rdd.RDDOperationScope$.withScope(RDDOperationScope.scala:151)\r\n\tat org.apache.spark.sql.execution.SparkPlan.executeQuery(SparkPlan.scala:152)\r\n\tat org.apache.spark.sql.execution.SparkPlan.execute(SparkPlan.scala:127)\r\n\tat org.apache.spark.sql.execution.InputAdapter.inputRDDs(WholeStageCodegenExec.scala:391)\r\n\tat org.apache.spark.sql.execution.aggregate.HashAggregateExec.inputRDDs(HashAggregateExec.scala:151)\r\n\tat org.apache.spark.sql.execution.WholeStageCodegenExec.doExecute(WholeStageCodegenExec.scala:627)\r\n\tat org.apache.spark.sql.execution.SparkPlan$$anonfun$execute$1.apply(SparkPlan.scala:131)\r\n\tat org.apache.spark.sql.execution.SparkPlan$$anonfun$execute$1.apply(SparkPlan.scala:127)\r\n\tat org.apache.spark.sql.execution.SparkPlan$$anonfun$executeQuery$1.apply(SparkPlan.scala:155)\r\n\tat org.apache.spark.rdd.RDDOperationScope$.withScope(RDDOperationScope.scala:151)\r\n\tat org.apache.spark.sql.execution.SparkPlan.executeQuery(SparkPlan.scala:152)\r\n\tat org.apache.spark.sql.execution.SparkPlan.execute(SparkPlan.scala:127)\r\n\tat org.apache.spark.sql.execution.exchange.ShuffleExchangeExec.prepareShuffleDependency(ShuffleExchangeExec.scala:92)\r\n\tat org.apache.spark.sql.execution.exchange.ShuffleExchangeExec$$anonfun$doExecute$1.apply(ShuffleExchangeExec.scala:128)\r\n\tat org.apache.spark.sql.execution.exchange.ShuffleExchangeExec$$anonfun$doExecute$1.apply(ShuffleExchangeExec.scala:119)\r\n\tat org.apache.spark.sql.catalyst.errors.package$.attachTree(package.scala:52)\r\n\t... 42 more\r\n"
     ]
    }
   ],
   "source": [
    "temp = df.groupBy([\"Scrap_date\", \"Scrap_time\", \"Flight_id\", \"There_or_back\"]).count().orderBy(\n",
    "[\"Scrap_date\", \"Scrap_time\", \"Flight_id\", \"There_or_back\"])\n",
    "#temp.show()\n",
    "df = df.withColumn('Change_temp', F.lit(0))\n",
    "df.select([\"Scrap_date\", \"Scrap_time\", \"Flight_id\", \"There_or_back\"]).intersect(\n",
    "    temp.select([\"Scrap_date\", \"Scrap_time\", \"Flight_id\", \"There_or_back\"])).show()\n",
    "#df = df.agg(F.sum(df.Price).alias(\"Price_sum\"))\n",
    "#df.show()"
   ]
  },
  {
   "cell_type": "markdown",
   "metadata": {},
   "source": [
    "Poniższa komórka nie działa, zadziała, kiedy do df dodamy kolumnę df, która będzie mówiła o przesiadce w danej grupie There / Back"
   ]
  },
  {
   "cell_type": "code",
   "execution_count": 11,
   "metadata": {},
   "outputs": [
    {
     "ename": "AttributeError",
     "evalue": "'DataFrame' object has no attribute 'Change_temp'",
     "output_type": "error",
     "traceback": [
      "\u001b[1;31m---------------------------------------------------------------------------\u001b[0m",
      "\u001b[1;31mAttributeError\u001b[0m                            Traceback (most recent call last)",
      "\u001b[1;32m<ipython-input-11-23c7b65ca480>\u001b[0m in \u001b[0;36m<module>\u001b[1;34m\u001b[0m\n\u001b[0;32m      3\u001b[0m     \u001b[0mF\u001b[0m\u001b[1;33m.\u001b[0m\u001b[0mfirst\u001b[0m\u001b[1;33m(\u001b[0m\u001b[0mdf\u001b[0m\u001b[1;33m.\u001b[0m\u001b[0mFlight_date_val\u001b[0m\u001b[1;33m)\u001b[0m\u001b[1;33m.\u001b[0m\u001b[0malias\u001b[0m\u001b[1;33m(\u001b[0m\u001b[1;34m\"Flight_date_val\"\u001b[0m\u001b[1;33m)\u001b[0m\u001b[1;33m,\u001b[0m \u001b[1;31m#Z tego co widzialem to przesiadki sa tego samego dnia\u001b[0m\u001b[1;33m\u001b[0m\u001b[1;33m\u001b[0m\u001b[0m\n\u001b[0;32m      4\u001b[0m     \u001b[0mF\u001b[0m\u001b[1;33m.\u001b[0m\u001b[0mfirst\u001b[0m\u001b[1;33m(\u001b[0m\u001b[0mdf\u001b[0m\u001b[1;33m.\u001b[0m\u001b[0mAirline\u001b[0m\u001b[1;33m)\u001b[0m\u001b[1;33m.\u001b[0m\u001b[0malias\u001b[0m\u001b[1;33m(\u001b[0m\u001b[1;34m'Airline1'\u001b[0m\u001b[1;33m)\u001b[0m\u001b[1;33m,\u001b[0m\u001b[1;33m\u001b[0m\u001b[1;33m\u001b[0m\u001b[0m\n\u001b[1;32m----> 5\u001b[1;33m     \u001b[0mF\u001b[0m\u001b[1;33m.\u001b[0m\u001b[0mwhen\u001b[0m\u001b[1;33m(\u001b[0m\u001b[0mF\u001b[0m\u001b[1;33m.\u001b[0m\u001b[0mfirst\u001b[0m\u001b[1;33m(\u001b[0m\u001b[0mdf\u001b[0m\u001b[1;33m.\u001b[0m\u001b[0mChange_temp\u001b[0m\u001b[1;33m)\u001b[0m \u001b[1;33m==\u001b[0m \u001b[1;36m1\u001b[0m\u001b[1;33m,\u001b[0m \u001b[0mF\u001b[0m\u001b[1;33m.\u001b[0m\u001b[0mlast\u001b[0m\u001b[1;33m(\u001b[0m\u001b[0mdf\u001b[0m\u001b[1;33m.\u001b[0m\u001b[0mAirline\u001b[0m\u001b[1;33m)\u001b[0m\u001b[1;33m)\u001b[0m\u001b[1;33m.\u001b[0m\u001b[0motherwise\u001b[0m\u001b[1;33m(\u001b[0m\u001b[1;34m'none'\u001b[0m\u001b[1;33m)\u001b[0m\u001b[1;33m.\u001b[0m\u001b[0malias\u001b[0m\u001b[1;33m(\u001b[0m\u001b[1;34m'Airline2'\u001b[0m\u001b[1;33m)\u001b[0m\u001b[1;33m,\u001b[0m\u001b[1;33m\u001b[0m\u001b[1;33m\u001b[0m\u001b[0m\n\u001b[0m\u001b[0;32m      6\u001b[0m     \u001b[0mF\u001b[0m\u001b[1;33m.\u001b[0m\u001b[0mfirst\u001b[0m\u001b[1;33m(\u001b[0m\u001b[0mdf\u001b[0m\u001b[1;33m.\u001b[0m\u001b[0mPrice\u001b[0m\u001b[1;33m)\u001b[0m\u001b[1;33m.\u001b[0m\u001b[0malias\u001b[0m\u001b[1;33m(\u001b[0m\u001b[1;34m'Price1'\u001b[0m\u001b[1;33m)\u001b[0m\u001b[1;33m,\u001b[0m\u001b[1;33m\u001b[0m\u001b[1;33m\u001b[0m\u001b[0m\n\u001b[0;32m      7\u001b[0m     \u001b[0mF\u001b[0m\u001b[1;33m.\u001b[0m\u001b[0mwhen\u001b[0m\u001b[1;33m(\u001b[0m\u001b[0mF\u001b[0m\u001b[1;33m.\u001b[0m\u001b[0mfirst\u001b[0m\u001b[1;33m(\u001b[0m\u001b[0mdf\u001b[0m\u001b[1;33m.\u001b[0m\u001b[0mChange_temp\u001b[0m\u001b[1;33m)\u001b[0m \u001b[1;33m==\u001b[0m \u001b[1;36m1\u001b[0m\u001b[1;33m,\u001b[0m \u001b[0mF\u001b[0m\u001b[1;33m.\u001b[0m\u001b[0mlast\u001b[0m\u001b[1;33m(\u001b[0m\u001b[0mdf\u001b[0m\u001b[1;33m.\u001b[0m\u001b[0mPrice\u001b[0m\u001b[1;33m)\u001b[0m\u001b[1;33m)\u001b[0m\u001b[1;33m.\u001b[0m\u001b[0motherwise\u001b[0m\u001b[1;33m(\u001b[0m\u001b[1;34m'none'\u001b[0m\u001b[1;33m)\u001b[0m\u001b[1;33m.\u001b[0m\u001b[0malias\u001b[0m\u001b[1;33m(\u001b[0m\u001b[1;34m'Price2'\u001b[0m\u001b[1;33m)\u001b[0m\u001b[1;33m,\u001b[0m\u001b[1;33m\u001b[0m\u001b[1;33m\u001b[0m\u001b[0m\n",
      "\u001b[1;32m~\\Anaconda3\\lib\\site-packages\\pyspark\\sql\\dataframe.py\u001b[0m in \u001b[0;36m__getattr__\u001b[1;34m(self, name)\u001b[0m\n\u001b[0;32m   1298\u001b[0m         \u001b[1;32mif\u001b[0m \u001b[0mname\u001b[0m \u001b[1;32mnot\u001b[0m \u001b[1;32min\u001b[0m \u001b[0mself\u001b[0m\u001b[1;33m.\u001b[0m\u001b[0mcolumns\u001b[0m\u001b[1;33m:\u001b[0m\u001b[1;33m\u001b[0m\u001b[1;33m\u001b[0m\u001b[0m\n\u001b[0;32m   1299\u001b[0m             raise AttributeError(\n\u001b[1;32m-> 1300\u001b[1;33m                 \"'%s' object has no attribute '%s'\" % (self.__class__.__name__, name))\n\u001b[0m\u001b[0;32m   1301\u001b[0m         \u001b[0mjc\u001b[0m \u001b[1;33m=\u001b[0m \u001b[0mself\u001b[0m\u001b[1;33m.\u001b[0m\u001b[0m_jdf\u001b[0m\u001b[1;33m.\u001b[0m\u001b[0mapply\u001b[0m\u001b[1;33m(\u001b[0m\u001b[0mname\u001b[0m\u001b[1;33m)\u001b[0m\u001b[1;33m\u001b[0m\u001b[1;33m\u001b[0m\u001b[0m\n\u001b[0;32m   1302\u001b[0m         \u001b[1;32mreturn\u001b[0m \u001b[0mColumn\u001b[0m\u001b[1;33m(\u001b[0m\u001b[0mjc\u001b[0m\u001b[1;33m)\u001b[0m\u001b[1;33m\u001b[0m\u001b[1;33m\u001b[0m\u001b[0m\n",
      "\u001b[1;31mAttributeError\u001b[0m: 'DataFrame' object has no attribute 'Change_temp'"
     ]
    }
   ],
   "source": [
    "dff = df.groupBy([\"Scrap_date\", \"Scrap_time\", \"Flight_id\", \"There_or_back\"]).agg(\n",
    "    F.first(df.Days).alias(\"Days\"),\n",
    "    F.first(df.Flight_date_val).alias(\"Flight_date_val\"), #Z tego co widzialem to przesiadki sa tego samego dnia\n",
    "    F.first(df.Airline).alias('Airline1'),\n",
    "    F.when(F.first(df.Change_temp) == 1, F.last(df.Airline)).otherwise('none').alias('Airline2'),\n",
    "    F.first(df.Price).alias('Price1'),\n",
    "    F.when(F.first(df.Change_temp) == 1, F.last(df.Price)).otherwise('none').alias('Price2'),\n",
    "    F.first(df.Depart_hour).alias('Depart_hour1'),\n",
    "    F.when(F.first(df.Change_temp) == 1, F.last(df.Depart_hour)).otherwise('none').alias('Depart_hour2'),\n",
    "    F.first(df.Depart_from).alias('Depart_from1'),\n",
    "    F.when(F.first(df.Change_temp) == 1, F.last(df.Depart_from)).otherwise('0').alias('Depart_from2'),\n",
    "    F.first(df.Arrival_hour).alias('Arrival_hour1'),\n",
    "    F.when(F.first(df.Change_temp) == 1, F.last(df.Arrival_hour)).otherwise('none').alias('Arrival_hour2'),\n",
    "    F.first(df.Arrive_to).alias('Arrive_to1'),\n",
    "    F.when(F.first(df.Change_temp) == 1, F.last(df.Arrive_to)).otherwise('none').alias('Arrive_to2')\n",
    "    )"
   ]
  },
  {
   "cell_type": "markdown",
   "metadata": {},
   "source": [
    "To co jest ponizej dziala ale nie w przypadku kiedy sa nierowne liczby przesiadek"
   ]
  },
  {
   "cell_type": "code",
   "execution_count": 83,
   "metadata": {},
   "outputs": [],
   "source": [
    "dff = df.groupBy([\"Scrap_date\", \"Scrap_time\", \"Flight_id\", \"There_or_back\"]).agg(\n",
    "    F.first(df.Change).alias(\"Change\"), #To w sumie chyba nie jest potrzebne\n",
    "    F.first(df.Days).alias(\"Days\"),\n",
    "    F.first(df.Flight_date_val).alias(\"Flight_date_val\"),\n",
    "    F.first(df.Airline).alias('Airline1'),\n",
    "    F.when(F.first(df.Change) == 1, F.last(df.Airline)).otherwise('none').alias('Airline2'),\n",
    "    F.first(df.Price).alias('Price1'),\n",
    "    F.when(F.first(df.Change) == 1, F.last(df.Price)).otherwise('none').alias('Price2'),\n",
    "    F.first(df.Depart_hour).alias('Depart_hour1'),\n",
    "    F.when(F.first(df.Change) == 1, F.last(df.Depart_hour)).otherwise('none').alias('Depart_hour2'),\n",
    "    F.first(df.Depart_from).alias('Depart_from1'),\n",
    "    F.when(F.first(df.Change) == 1, F.last(df.Depart_from)).otherwise('0').alias('Depart_from2'),\n",
    "    F.first(df.Arrival_hour).alias('Arrival_hour1'),\n",
    "    F.when(F.first(df.Change) == 1, F.last(df.Arrival_hour)).otherwise('none').alias('Arrival_hour2'),\n",
    "    F.first(df.Arrive_to).alias('Arrive_to1'),\n",
    "    F.when(F.first(df.Change) == 1, F.last(df.Arrive_to)).otherwise('none').alias('Arrive_to2')\n",
    "    )"
   ]
  },
  {
   "cell_type": "code",
   "execution_count": null,
   "metadata": {},
   "outputs": [],
   "source": [
    "To poniżej co zaraz będzie, powinno być spoko"
   ]
  },
  {
   "cell_type": "code",
   "execution_count": null,
   "metadata": {},
   "outputs": [],
   "source": [
    "dff = df.groupBy([\"Scrap_date\", \"Scrap_time\", \"Flight_id\", \"There_or_back\"]).agg(\n",
    "    F.first(df.Days).alias(\"Days\"),\n",
    "    F.first(df.Flight_date_val).alias(\"Flight_date_val\"), #Z tego co widzialem to przesiadki sa tego samego dnia\n",
    "    F.first(df.Airline).alias('Airline1'),\n",
    "    F.when(F.first(df.Depart_from) != F.last(df.Depart_from), F.last(df.Airline)).otherwise('none').alias('Airline2'),\n",
    "    F.first(df.Price).alias('Price1'),\n",
    "    F.when(F.first(df.Depart_from) != F.last(df.Depart_from), F.last(df.Price)).otherwise(0).alias('Price2'),\n",
    "    F.first(df.Depart_hour).alias('Depart_hour1'),\n",
    "    F.when(F.first(df.Depart_from) != F.last(df.Depart_from), F.last(df.Depart_hour)).otherwise('none').alias('Depart_hour2'),\n",
    "    F.first(df.Depart_from).alias('Depart_from1'),\n",
    "    F.when(F.first(df.Depart_from) != F.last(df.Depart_from), F.last(df.Depart_from)).otherwise('none').alias('Depart_from2'),\n",
    "    F.first(df.Arrival_hour).alias('Arrival_hour1'),\n",
    "    F.when(F.first(df.Depart_from) != F.last(df.Depart_from), F.last(df.Arrival_hour)).otherwise('none').alias('Arrival_hour2'),\n",
    "    F.first(df.Arrive_to).alias('Arrive_to1'),\n",
    "    F.when(F.first(df.Depart_from) != F.last(df.Depart_from), F.last(df.Arrive_to)).otherwise('none').alias('Arrive_to2')\n",
    "    )"
   ]
  },
  {
   "cell_type": "markdown",
   "metadata": {},
   "source": [
    "Do poniższego jeszcze trzeba dodać czas pobytu (edit. jest już czas pobytu)"
   ]
  },
  {
   "cell_type": "code",
   "execution_count": 13,
   "metadata": {},
   "outputs": [],
   "source": [
    "dff_final = dff.groupBy([\"Scrap_date\", \"Scrap_time\", \"Flight_id\"]).agg(\n",
    "F.when(F.first(dff.There_or_back) == 'There', F.first(dff.Days)).otherwise(F.last(dff.Days)).alias('Days'),\n",
    "    \n",
    "(F.when(F.first(dff.There_or_back) == 'Back', F.first(dff.Flight_date_val)).otherwise(F.last(dff.Flight_date_val)) -\n",
    "F.when(F.first(dff.There_or_back) == 'There', F.first(dff.Flight_date_val)).otherwise(F.last(dff.Flight_date_val))).alias('Journey_time'),\n",
    "    \n",
    "F.when(F.first(dff.There_or_back) == 'There', F.first(dff.Airline1)).otherwise(F.last(dff.Airline1)).alias('Airline1_There'),\n",
    "F.when(F.first(dff.There_or_back) == 'Back', F.first(dff.Airline1)).otherwise(F.last(dff.Airline1)).alias('Airline1_Back'),\n",
    "F.when(F.first(dff.There_or_back) == 'There', F.first(dff.Airline2)).otherwise(F.last(dff.Airline2)).alias('Airline2_There'),\n",
    "F.when(F.first(dff.There_or_back) == 'Back', F.first(dff.Airline2)).otherwise(F.last(dff.Airline2)).alias('Airline2_Back'),\n",
    "F.when(F.first(dff.There_or_back) == 'There', F.first(dff.Price1)).otherwise(F.last(dff.Price1)).alias('Price1_There'),\n",
    "F.when(F.first(dff.There_or_back) == 'Back', F.first(dff.Price1)).otherwise(F.last(dff.Price1)).alias('Price1_Back'),\n",
    "F.when(F.first(dff.There_or_back) == 'There', F.first(dff.Price2)).otherwise(F.last(dff.Price2)).alias('Price2_There'),\n",
    "F.when(F.first(dff.There_or_back) == 'Back', F.first(dff.Price2)).otherwise(F.last(dff.Price2)).alias('Price2_Back'),\n",
    "F.when(F.first(dff.There_or_back) == 'There', F.first(dff.Depart_hour1)).otherwise(F.last(dff.Depart_hour1)).alias('Depart_hour1_There'),\n",
    "F.when(F.first(dff.There_or_back) == 'Back', F.first(dff.Depart_hour1)).otherwise(F.last(dff.Depart_hour1)).alias('Depart_hour1_Back'),\n",
    "F.when(F.first(dff.There_or_back) == 'There', F.first(dff.Depart_hour2)).otherwise(F.last(dff.Depart_hour2)).alias('Depart_hour2_There'),\n",
    "F.when(F.first(dff.There_or_back) == 'Back', F.first(dff.Depart_hour2)).otherwise(F.last(dff.Depart_hour2)).alias('Depart_hour2_Back'),\n",
    "F.when(F.first(dff.There_or_back) == 'There', F.first(dff.Depart_from1)).otherwise(F.last(dff.Depart_from1)).alias('Depart_from1_There'),\n",
    "F.when(F.first(dff.There_or_back) == 'Back', F.first(dff.Depart_from1)).otherwise(F.last(dff.Depart_from1)).alias('Depart_from1_Back'),\n",
    "F.when(F.first(dff.There_or_back) == 'There', F.first(dff.Depart_from2)).otherwise(F.last(dff.Depart_from2)).alias('Depart_from2_There'),\n",
    "F.when(F.first(dff.There_or_back) == 'Back', F.first(dff.Depart_from2)).otherwise(F.last(dff.Depart_from2)).alias('Depart_from2_Back'),\n",
    "F.when(F.first(dff.There_or_back) == 'There', F.first(dff.Arrival_hour1)).otherwise(F.last(dff.Arrival_hour1)).alias('Arrival_hour1_There'),\n",
    "F.when(F.first(dff.There_or_back) == 'Back', F.first(dff.Arrival_hour1)).otherwise(F.last(dff.Arrival_hour1)).alias('Arrival_hour1_Back'),\n",
    "F.when(F.first(dff.There_or_back) == 'There', F.first(dff.Arrival_hour2)).otherwise(F.last(dff.Arrival_hour2)).alias('Arrival_hour2_There'),\n",
    "F.when(F.first(dff.There_or_back) == 'Back', F.first(dff.Arrival_hour2)).otherwise(F.last(dff.Arrival_hour2)).alias('Arrival_hour2_Back'),\n",
    "F.when(F.first(dff.There_or_back) == 'There', F.first(dff.Arrive_to1)).otherwise(F.last(dff.Arrive_to1)).alias('Arrive_to1_There'),\n",
    "F.when(F.first(dff.There_or_back) == 'Back', F.first(dff.Arrive_to1)).otherwise(F.last(dff.Arrive_to1)).alias('Arrive_to1_Back'),\n",
    "F.when(F.first(dff.There_or_back) == 'There', F.first(dff.Arrive_to2)).otherwise(F.last(dff.Arrive_to2)).alias('Arrive_to2_There'),\n",
    "F.when(F.first(dff.There_or_back) == 'Back', F.first(dff.Arrive_to2)).otherwise(F.last(dff.Arrive_to2)).alias('Arrive_to2_Back')\n",
    ")"
   ]
  },
  {
   "cell_type": "code",
   "execution_count": 19,
   "metadata": {},
   "outputs": [
    {
     "name": "stdout",
     "output_type": "stream",
     "text": [
      "+----------+----------+---------+----+------------+--------------+-------------+--------------+-------------+------------+-----------+------------+-----------+------------------+-----------------+------------------+-----------------+------------------+--------------------+------------------+-----------------+-------------------+------------------+-------------------+------------------+--------------------+---------------+--------------------+---------------+\n",
      "|Scrap_date|Scrap_time|Flight_id|Days|Journey_time|Airline1_There|Airline1_Back|Airline2_There|Airline2_Back|Price1_There|Price1_Back|Price2_There|Price2_Back|Depart_hour1_There|Depart_hour1_Back|Depart_hour2_There|Depart_hour2_Back|Depart_from1_There|   Depart_from1_Back|Depart_from2_There|Depart_from2_Back|Arrival_hour1_There|Arrival_hour1_Back|Arrival_hour2_There|Arrival_hour2_Back|    Arrive_to1_There|Arrive_to1_Back|    Arrive_to2_There|Arrive_to2_Back|\n",
      "+----------+----------+---------+----+------------+--------------+-------------+--------------+-------------+------------+-----------+------------+-----------+------------------+-----------------+------------------+-----------------+------------------+--------------------+------------------+-----------------+-------------------+------------------+-------------------+------------------+--------------------+---------------+--------------------+---------------+\n",
      "|2019-05-19|         2|     1589|  25|           5|   Laudamotion|  Laudamotion|          none|         none|       14.99|      14.99|         0.0|        0.0|           morning|          morning|              none|             none|        Vienna VIE|Milan BGYMilan (B...|              none|             none|            morning|           morning|               none|              none|Milan BGYMilan (B...|     Vienna VIE|                none|           none|\n",
      "|2019-05-16|         2|     1589|   6|           7|   Laudamotion|  Laudamotion|   Laudamotion|         none|        9.99|       7.99|        9.99|        0.0|           morning|          morning|         afternoon|             none|        Vienna VIE|Milan BGYMilan (B...|     Stuttgart STR|             none|            morning|           morning|          afternoon|              none| Stuttgart STR OE620|     Vienna VIE|Milan BGYMilan (B...|           none|\n",
      "|2019-05-18|         2|     1589|  58|           5|   Laudamotion|  Laudamotion|          none|         none|       14.99|      14.99|         0.0|        0.0|           evening|          morning|              none|             none|        Vienna VIE|         Bologna BLQ|              none|             none|            evening|           morning|               none|              none|         Bologna BLQ|     Vienna VIE|                none|           none|\n",
      "|2019-05-15|         2|     1589|   8|           5|   Laudamotion|  Laudamotion|          none|         none|       17.94|       9.99|         0.0|        0.0|           morning|          evening|              none|             none|        Vienna VIE|            Pisa PSA|              none|             none|            morning|           evening|               none|              none|            Pisa PSA|     Vienna VIE|                none|           none|\n",
      "|2019-05-17|         2|     1589|  32|           8|   Laudamotion|  Laudamotion|   Laudamotion|         none|        9.99|       9.99|        9.99|        0.0|           morning|        afternoon|           evening|             none|        Vienna VIE|         Bologna BLQ|     Stuttgart STR|             none|            morning|         afternoon|            evening|              none| Stuttgart STR OE620|     Vienna VIE|         Bologna BLQ|           none|\n",
      "+----------+----------+---------+----+------------+--------------+-------------+--------------+-------------+------------+-----------+------------+-----------+------------------+-----------------+------------------+-----------------+------------------+--------------------+------------------+-----------------+-------------------+------------------+-------------------+------------------+--------------------+---------------+--------------------+---------------+\n",
      "\n"
     ]
    }
   ],
   "source": [
    "dff_final.filter(dff_final['Flight_id'] == 1589).show()"
   ]
  },
  {
   "cell_type": "markdown",
   "metadata": {},
   "source": [
    "Poniżej jakieś moje robocze rzeczy, testy, itp."
   ]
  },
  {
   "cell_type": "code",
   "execution_count": 87,
   "metadata": {},
   "outputs": [
    {
     "name": "stdout",
     "output_type": "stream",
     "text": [
      "+-----------+------------+--------------------+------+------------+----------+--------------------+-----------+-----------+---------+-----+----------+----------+-------------+----+---------------+\n",
      "|    Airline|Arrival_hour|           Arrive_to|Change|Country_from|Country_to|         Depart_from|Depart_hour|Flight_date|Flight_id|Price|Scrap_date|Scrap_time|There_or_Back|Days|Flight_date_val|\n",
      "+-----------+------------+--------------------+------+------------+----------+--------------------+-----------+-----------+---------+-----+----------+----------+-------------+----+---------------+\n",
      "|Laudamotion|     evening|   Krakow KRK OE1304|     1|     Austria|   Austria|          Vienna VIE|    evening|   14/07/19|        1| 9.99|2019-05-15|         2|        There|  60|          18090|\n",
      "|Laudamotion|     evening|          Vienna VIE|     1|     Austria|   Austria|          Krakow KRK|    evening|   14/07/19|        1| 9.05|2019-05-15|         2|        There|  60|          18090|\n",
      "|Laudamotion|     evening|   Krakow KRK OE1304|     1|     Austria|   Austria|          Vienna VIE|    evening|   21/07/19|        1| 9.99|2019-05-15|         2|         Back|  67|          18097|\n",
      "|Laudamotion|     evening|          Vienna VIE|     1|     Austria|   Austria|          Krakow KRK|    evening|   21/07/19|        1|  2.3|2019-05-15|         2|         Back|  67|          18097|\n",
      "|Laudamotion|     evening|   Krakow KRK OE1304|     1|     Austria|   Austria|          Vienna VIE|    evening|   21/07/19|        2| 9.99|2019-05-15|         2|        There|  67|          18097|\n",
      "|Laudamotion|     evening|          Vienna VIE|     1|     Austria|   Austria|          Krakow KRK|    evening|   21/07/19|        2|  2.3|2019-05-15|         2|        There|  67|          18097|\n",
      "|Laudamotion|     evening|   Krakow KRK OE1304|     1|     Austria|   Austria|          Vienna VIE|    evening|   28/07/19|        2| 9.99|2019-05-15|         2|         Back|  74|          18104|\n",
      "|Laudamotion|     evening|          Vienna VIE|     1|     Austria|   Austria|          Krakow KRK|    evening|   28/07/19|        2| 9.05|2019-05-15|         2|         Back|  74|          18104|\n",
      "|Laudamotion|     evening|   Krakow KRK OE1304|     1|     Austria|   Austria|          Vienna VIE|    evening|   21/07/19|        3| 9.99|2019-05-15|         2|        There|  67|          18097|\n",
      "|Laudamotion|     evening|          Vienna VIE|     1|     Austria|   Austria|          Krakow KRK|    evening|   21/07/19|        3|  2.3|2019-05-15|         2|        There|  67|          18097|\n",
      "|   Wizz Air|   afternoon|Rome FCORome (Fiu...|     1|     Austria|   Austria|          Vienna VIE|  afternoon|   29/07/19|        3| 9.99|2019-05-15|         2|         Back|  75|          18105|\n",
      "|Laudamotion|     evening|          Vienna VIE|     1|     Austria|   Austria|Rome FCORome (Fiu...|    evening|   29/07/19|        3|14.99|2019-05-15|         2|         Back|  75|          18105|\n",
      "|Laudamotion|     evening|   Krakow KRK OE1304|     1|     Austria|   Austria|          Vienna VIE|    evening|   09/06/19|        4| 9.99|2019-05-15|         2|        There|  25|          18055|\n",
      "|Laudamotion|     evening|          Vienna VIE|     1|     Austria|   Austria|          Krakow KRK|    evening|   09/06/19|        4| 9.05|2019-05-15|         2|        There|  25|          18055|\n",
      "|Laudamotion|     evening|   Krakow KRK OE1304|     1|     Austria|   Austria|          Vienna VIE|    evening|   16/06/19|        4| 9.99|2019-05-15|         2|         Back|  32|          18062|\n",
      "|Laudamotion|     evening|          Vienna VIE|     1|     Austria|   Austria|          Krakow KRK|    evening|   16/06/19|        4| 9.05|2019-05-15|         2|         Back|  32|          18062|\n",
      "|Laudamotion|     evening|   Krakow KRK OE1304|     1|     Austria|   Austria|          Vienna VIE|    evening|   07/07/19|        5| 9.99|2019-05-15|         2|        There|  53|          18083|\n",
      "|Laudamotion|     evening|          Vienna VIE|     1|     Austria|   Austria|          Krakow KRK|    evening|   07/07/19|        5| 9.05|2019-05-15|         2|        There|  53|          18083|\n",
      "|Laudamotion|     evening|   Krakow KRK OE1304|     1|     Austria|   Austria|          Vienna VIE|    evening|   14/07/19|        5| 9.99|2019-05-15|         2|         Back|  60|          18090|\n",
      "|Laudamotion|     evening|          Vienna VIE|     1|     Austria|   Austria|          Krakow KRK|    evening|   14/07/19|        5| 9.05|2019-05-15|         2|         Back|  60|          18090|\n",
      "+-----------+------------+--------------------+------+------------+----------+--------------------+-----------+-----------+---------+-----+----------+----------+-------------+----+---------------+\n",
      "only showing top 20 rows\n",
      "\n"
     ]
    }
   ],
   "source": [
    "df.show()"
   ]
  },
  {
   "cell_type": "code",
   "execution_count": null,
   "metadata": {},
   "outputs": [],
   "source": []
  },
  {
   "cell_type": "code",
   "execution_count": 60,
   "metadata": {},
   "outputs": [],
   "source": [
    "dff = df.groupBy([\"Scrap_date\", \"Scrap_time\", \"Flight_id\", \"There_or_back\"]).agg(\n",
    "    F.first(df.Change).alias(\"Change\"),\n",
    "    F.first(df.Airline).alias('Airline1'),\n",
    "    F.when(F.first(df.Change) == 1, F.last(df.Airline)).otherwise('none').alias('Airline2'),\n",
    "    F.first(df.Price).alias('Price1'),\n",
    "    F.when(F.first(df.Change) == 1, F.last(df.Price)).otherwise('none').alias('Price2')\n",
    "    )"
   ]
  },
  {
   "cell_type": "code",
   "execution_count": 45,
   "metadata": {},
   "outputs": [],
   "source": [
    "dff = dff.orderBy([\"There_or_back\"])"
   ]
  },
  {
   "cell_type": "code",
   "execution_count": 56,
   "metadata": {},
   "outputs": [
    {
     "name": "stdout",
     "output_type": "stream",
     "text": [
      "+----------+----------+---------+-------------+------+--------+--------+------+------+\n",
      "|Scrap_date|Scrap_time|Flight_id|There_or_back|Change|Airline1|Airline2|Price1|Price2|\n",
      "+----------+----------+---------+-------------+------+--------+--------+------+------+\n",
      "|2019-05-18|         2|       72|         Back|     1| easyJet| easyJet|  7.26| 13.67|\n",
      "|2019-05-18|         2|       72|        There|     1| easyJet| easyJet| 23.42|  36.9|\n",
      "|2019-05-15|         2|       72|        There|     1| easyJet| easyJet| 14.33| 26.29|\n",
      "|2019-05-17|         2|       72|         Back|     1| easyJet| easyJet| 16.49| 24.87|\n",
      "|2019-05-16|         2|       72|         Back|     1| easyJet| easyJet| 14.33| 25.28|\n",
      "|2019-05-15|         2|       72|         Back|     1| easyJet| easyJet| 14.33| 25.28|\n",
      "|2019-05-19|         2|       72|        There|     1| easyJet| easyJet| 23.42|  36.9|\n",
      "|2019-05-16|         2|       72|        There|     1| easyJet| easyJet| 14.33| 26.29|\n",
      "|2019-05-19|         2|       72|         Back|     1| easyJet| easyJet|  7.26| 13.67|\n",
      "|2019-05-17|         2|       72|        There|     1| easyJet| easyJet| 18.88| 20.74|\n",
      "+----------+----------+---------+-------------+------+--------+--------+------+------+\n",
      "\n"
     ]
    }
   ],
   "source": [
    "dff.filter(dff.Flight_id == 72).show()"
   ]
  },
  {
   "cell_type": "code",
   "execution_count": 42,
   "metadata": {},
   "outputs": [],
   "source": [
    "dff_final = dff.groupBy([\"Scrap_date\", \"Scrap_time\", \"Flight_id\"]).agg(\n",
    "    F.first(dff.Change).alias(\"Change\"),\n",
    "    F.first(dff.Airline1).alias(\"Airline1_There\"),\n",
    "    F.last(dff.Airline1).alias(\"Airline1_Back\"),\n",
    "    F.first(dff.Airline2).alias(\"Airline2_There\"),\n",
    "    F.last(dff.Airline2).alias(\"Airline2_Back\"),\n",
    "    F.first(dff.Price1).alias(\"Price1_There\"),\n",
    "    F.last(dff.Price1).alias(\"Price1_Back\"),\n",
    "    F.first(dff.Price2).alias(\"Price2_There\"),\n",
    "    F.last(dff.Price2).alias(\"Price2_Back\"),\n",
    "    F.first(dff.Depart_hour1).alias(\"Depart_hour1_There\"),\n",
    "    F.last(dff.Depart_hour1).alias(\"Depart_hour1_Back\"),\n",
    "    F.first(dff.Depart_hour2).alias(\"Depart_hour2_There\"),\n",
    "    F.last(dff.Depart_hour2).alias(\"Depart_hour2_Back\"),\n",
    "    F.first(dff.Depart_from1).alias(\"Depart_from1_There\"),\n",
    "    F.last(dff.Depart_from1).alias(\"Depart_from1_Back\"),\n",
    "    F.first(dff.Depart_from2).alias(\"Depart_from2_There\"),\n",
    "    F.last(dff.Depart_from2).alias(\"Depart_from2_Back\"),\n",
    "    F.first(dff.Arrival_hour1).alias(\"Arrival_hour1_There\"),\n",
    "    F.last(dff.Arrival_hour1).alias(\"Arrival_hour1_Back\"),\n",
    "    F.first(dff.Arrival_hour2).alias(\"Arrival_hour2_There\"),\n",
    "    F.last(dff.Arrival_hour2).alias(\"Arrival_hour2_Back\"),\n",
    "    F.first(dff.Arrive_to1).alias(\"Arrive_to1_There\"),\n",
    "    F.last(dff.Arrive_to1).alias(\"Arrive_to1_Back\"),\n",
    "    F.first(dff.Arrive_to2).alias(\"Arrive_to2_There\"),\n",
    "    F.last(dff.Arrive_to2).alias(\"Arrive_to2_Back\"),\n",
    ")"
   ]
  },
  {
   "cell_type": "code",
   "execution_count": 66,
   "metadata": {},
   "outputs": [],
   "source": [
    "dff_final = dff.groupBy([\"Scrap_date\", \"Scrap_time\", \"Flight_id\"]).agg(\n",
    "F.when(F.first(dff.There_or_back) == 'There', F.first(dff.Airline1)).otherwise(F.last(dff.Airline1)).alias('Airline1_There'),\n",
    "F.when(F.first(dff.There_or_back) == 'Back', F.first(dff.Airline1)).otherwise(F.last(dff.Airline1)).alias('Airline1_Back'),\n",
    "F.when(F.first(dff.There_or_back) == 'There', F.first(dff.Airline2)).otherwise(F.last(dff.Airline2)).alias('Airline2_There'),\n",
    "F.when(F.first(dff.There_or_back) == 'Back', F.first(dff.Airline2)).otherwise(F.last(dff.Airline2)).alias('Airline2_Back'),\n",
    "F.when(F.first(dff.There_or_back) == 'There', F.first(dff.Price1)).otherwise(F.last(dff.Price1)).alias('Price1_There'),\n",
    "F.when(F.first(dff.There_or_back) == 'Back', F.first(dff.Price1)).otherwise(F.last(dff.Price1)).alias('Price1_Back'),\n",
    "F.when(F.first(dff.There_or_back) == 'There', F.first(dff.Price2)).otherwise(F.last(dff.Price2)).alias('Price2_There'),\n",
    "F.when(F.first(dff.There_or_back) == 'Back', F.first(dff.Price2)).otherwise(F.last(dff.Price2)).alias('Price2_Back'),\n",
    "F.when(F.first(dff.There_or_back) == 'There', F.first(dff.Depart_hour1)).otherwise(F.last(dff.Depart_hour1)).alias('Depart_hour1_There'),\n",
    "F.when(F.first(dff.There_or_back) == 'Back', F.first(dff.Depart_hour1)).otherwise(F.last(dff.Depart_hour1)).alias('Depart_hour1_Back'),\n",
    "F.when(F.first(dff.There_or_back) == 'There', F.first(dff.Depart_hour2)).otherwise(F.last(dff.Depart_hour2)).alias('Depart_hour2_There'),\n",
    "F.when(F.first(dff.There_or_back) == 'Back', F.first(dff.Depart_hour2)).otherwise(F.last(dff.Depart_hour2)).alias('Depart_hour2_Back'),\n",
    "F.when(F.first(dff.There_or_back) == 'There', F.first(dff.Depart_from1)).otherwise(F.last(dff.Depart_from1)).alias('Depart_from1_There'),\n",
    "F.when(F.first(dff.There_or_back) == 'Back', F.first(dff.Depart_from1)).otherwise(F.last(dff.Depart_from1)).alias('Depart_from1_Back'),\n",
    "F.when(F.first(dff.There_or_back) == 'There', F.first(dff.Depart_from2)).otherwise(F.last(dff.Depart_from2)).alias('Depart_from2_There'),\n",
    "F.when(F.first(dff.There_or_back) == 'Back', F.first(dff.Depart_from2)).otherwise(F.last(dff.Depart_from2)).alias('Depart_from2_Back'),\n",
    "F.when(F.first(dff.There_or_back) == 'There', F.first(dff.Arrival_hour1)).otherwise(F.last(dff.Arrival_hour1)).alias('Arrival_hour1_There'),\n",
    "F.when(F.first(dff.There_or_back) == 'Back', F.first(dff.Arrival_hour1)).otherwise(F.last(dff.Arrival_hour1)).alias('Arrival_hour1_Back'),\n",
    "F.when(F.first(dff.There_or_back) == 'There', F.first(dff.Arrival_hour2)).otherwise(F.last(dff.Arrival_hour2)).alias('Arrival_hour2_There'),\n",
    "F.when(F.first(dff.There_or_back) == 'Back', F.first(dff.Arrival_hour2)).otherwise(F.last(dff.Arrival_hour2)).alias('Arrival_hour2_Back'),\n",
    "F.when(F.first(dff.There_or_back) == 'There', F.first(dff.Arrive_to1)).otherwise(F.last(dff.Arrive_to1)).alias('Arrive_to1_There'),\n",
    "F.when(F.first(dff.There_or_back) == 'Back', F.first(dff.Arrive_to1)).otherwise(F.last(dff.Arrive_to1)).alias('Arrive_to1_Back'),\n",
    "F.when(F.first(dff.There_or_back) == 'There', F.first(dff.Arrive_to2)).otherwise(F.last(dff.Arrive_to2)).alias('Arrive_to2_There'),\n",
    "F.when(F.first(dff.There_or_back) == 'Back', F.first(dff.Arrive_to2)).otherwise(F.last(dff.Arrive_to2)).alias('Arrive_to2_Back')\n",
    ")"
   ]
  },
  {
   "cell_type": "code",
   "execution_count": 85,
   "metadata": {
    "scrolled": true
   },
   "outputs": [
    {
     "name": "stdout",
     "output_type": "stream",
     "text": [
      "+----------+----------+---------+----+------------+--------------+-------------+--------------+-------------+------------+-----------+------------+-----------+------------------+-----------------+------------------+-----------------+--------------------+--------------------+--------------------+--------------------+-------------------+------------------+-------------------+------------------+--------------------+--------------------+--------------------+--------------------+\n",
      "|Scrap_date|Scrap_time|Flight_id|Days|Journey_time|Airline1_There|Airline1_Back|Airline2_There|Airline2_Back|Price1_There|Price1_Back|Price2_There|Price2_Back|Depart_hour1_There|Depart_hour1_Back|Depart_hour2_There|Depart_hour2_Back|  Depart_from1_There|   Depart_from1_Back|  Depart_from2_There|   Depart_from2_Back|Arrival_hour1_There|Arrival_hour1_Back|Arrival_hour2_There|Arrival_hour2_Back|    Arrive_to1_There|     Arrive_to1_Back|    Arrive_to2_There|     Arrive_to2_Back|\n",
      "+----------+----------+---------+----+------------+--------------+-------------+--------------+-------------+------------+-----------+------------+-----------+------------------+-----------------+------------------+-----------------+--------------------+--------------------+--------------------+--------------------+-------------------+------------------+-------------------+------------------+--------------------+--------------------+--------------------+--------------------+\n",
      "|2019-05-15|         2|       72| 132|           4|       easyJet|      easyJet|       easyJet|      easyJet|       14.33|      14.33|       26.29|      25.28|           morning|          morning|         afternoon|        afternoon|          Vienna VIE|            Graz GRZ|Berlin TXLBerlin ...|Berlin TXLBerlin ...|          afternoon|           morning|          afternoon|         afternoon|Berlin TXLBerlin ...|Berlin TXLBerlin ...|            Graz GRZ|          Vienna VIE|\n",
      "|2019-05-15|         2|       82| 294|           4|       easyJet|      easyJet|       easyJet|      easyJet|       22.99|      25.49|       17.87|      17.87|           morning|        afternoon|         afternoon|          evening|          Vienna VIE|        Salzburg SZG|Berlin SXFBerlin ...|Berlin SXFBerlin ...|            morning|           evening|          afternoon|           evening|Berlin SXFBerlin ...|Berlin SXFBerlin ...|        Salzburg SZG|          Vienna VIE|\n",
      "|2019-05-15|         2|      112| 155|           4|       easyJet|      easyJet|       easyJet|    Eurowings|       34.03|      16.86|       11.14|      39.99|         afternoon|          morning|           evening|          morning|        Salzburg SZG|          Vienna VIE|Berlin SXFBerlin ...|Berlin TXLBerlin ...|          afternoon|           morning|            evening|           morning|Berlin SXFBerlin ...|Berlin TXLBerlin ...|          Vienna VIE|        Salzburg SZG|\n",
      "|2019-05-15|         2|      129| 141|           7|     Eurowings|    Eurowings|     Eurowings|      easyJet|       99.99|      49.99|       69.99|      20.74|           morning|        afternoon|           evening|        afternoon|            Graz GRZ|        Salzburg SZG|      Palma Mall PMI|Berlin TXLBerlin ...|          afternoon|         afternoon|            evening|         afternoon|Palma Mall PMI EW...|Berlin TXLBerlin ...|        Salzburg SZG|            Graz GRZ|\n",
      "|2019-05-15|         2|      314| 142|           6|   Laudamotion|    Eurowings|       Ryanair|    Eurowings|       19.99|      34.99|       19.99|      34.99|           morning|        afternoon|           evening|        afternoon|          Vienna VIE|           Zadar ZAD|Milan BGYMilan (B...|           Zadar ZAD|          afternoon|         afternoon|            evening|         afternoon|Milan BGYMilan (B...|          Vienna VIE|           Zadar ZAD|          Vienna VIE|\n",
      "|2019-05-15|         2|      516| 186|           5|   Laudamotion|      Ryanair|   Laudamotion|     Wizz Air|       29.57|       5.92|       29.57|       9.05|         afternoon|          morning|         afternoon|        afternoon|          Vienna VIE|      Copenhagen CPH|          Vienna VIE|          Gdansk GDN|          afternoon|           morning|          afternoon|         afternoon|      Copenhagen CPH|   Gdansk GDN FR6845|      Copenhagen CPH|          Vienna VIE|\n",
      "|2019-05-15|         2|      970| 202|           8|   Laudamotion|      easyJet|   Laudamotion|     Wizz Air|       23.86|       15.2|       23.86|      14.99|         afternoon|        afternoon|         afternoon|          evening|          Vienna VIE|        Bordeaux BOD|          Vienna VIE|Milan MXPMilan (M...|            evening|         afternoon|            evening|           evening|        Bordeaux BOD|Milan MXPMilan (M...|        Bordeaux BOD|          Vienna VIE|\n",
      "|2019-05-15|         2|     1036|  62|           8|      Wizz Air|     Wizz Air|          none|         none|       14.99|      14.99|        none|       none|           morning|        afternoon|              none|             none|          Vienna VIE|        Dortmund DTM|                   0|                   0|          afternoon|         afternoon|               none|              none|        Dortmund DTM|          Vienna VIE|                none|                none|\n",
      "|2019-05-15|         2|     1225|   7|           6|     Eurowings|  Laudamotion|          none|         none|       49.99|       9.99|        none|       none|           morning|        afternoon|              none|             none|          Vienna VIE|             Kos KGS|                   0|                   0|          afternoon|         afternoon|               none|              none|             Kos KGS|          Vienna VIE|                none|                none|\n",
      "|2019-05-15|         2|     1410|  22|           7|   Laudamotion|      Ryanair|       Ryanair|  Laudamotion|       19.99|      17.99|       20.74|      23.04|           morning|          morning|           morning|          evening|          Vienna VIE|         Shannon SNN|London STNLondon ...|London STNLondon ...|            morning|           morning|            morning|           evening|London STNLondon ...|London STNLondon ...|         Shannon SNN|          Vienna VIE|\n",
      "|2019-05-15|         2|     2030| 105|           8|      Wizz Air|      easyJet|      Wizz Air|      easyJet|        9.99|       4.64|        9.99|      18.21|         afternoon|          morning|         afternoon|        afternoon|          Vienna VIE|          Warsaw WAW|          Vienna VIE|Berlin TXLBerlin ...|          afternoon|           morning|          afternoon|           evening|          Warsaw WAW|Berlin TXLBerlin ...|          Warsaw WAW|          Vienna VIE|\n",
      "|2019-05-15|         2|     2213| 139|           8|      Wizz Air|      easyJet|       easyJet|      easyJet|       14.99|      14.37|       18.91|      20.29|             night|          morning|           morning|        afternoon|          Vienna VIE|          Lisbon LIS|          Madrid MAD|          Geneva GVA|            morning|           morning|            morning|         afternoon|   Madrid MAD W62845|   Geneva GVA U21442|          Lisbon LIS|          Vienna VIE|\n",
      "|2019-05-15|         2|     2395| 255|           5|      Wizz Air|     Wizz Air|          none|         none|       14.99|      24.99|        none|       none|         afternoon|          evening|              none|             none|          Vienna VIE|          Malaga AGP|                   0|                   0|            evening|           evening|               none|              none|          Malaga AGP|          Vienna VIE|                none|                none|\n",
      "|2019-05-15|         2|     2615| 162|           4|       Ryanair|      easyJet|       easyJet|      Ryanair|       22.39|      25.49|       18.21|      19.99|           morning|          morning|           morning|          evening|        Brussels BRU|        Salzburg SZG|Berlin SXFBerlin ...|Berlin SXFBerlin ...|            morning|           morning|          afternoon|           evening|Berlin SXFBerlin ...|Berlin SXFBerlin ...|        Salzburg SZG|        Brussels BRU|\n",
      "|2019-05-15|         2|     2659|   7|           4|     Jetairfly|  Laudamotion|   Laudamotion|    Jetairfly|       39.99|     117.29|        9.99|      39.99|         afternoon|            night|           evening|          evening|           Liege LGG|          Vienna VIE|      Palma Mall PMI|          Rhodes RHO|          afternoon|           morning|            evening|           evening|Palma Mall PMI TB...|    Rhodes RHO OE602|          Vienna VIE|           Liege LGG|\n",
      "|2019-05-15|         2|     2759|   2|           4|     Jetairfly|    Jetairfly|     Jetairfly|      Ryanair|       89.99|      79.99|       29.99|      44.56|           morning|          morning|           morning|        afternoon|        Brussels BRU|Antwerp ANRAntwer...|      Palma Mall PMI|        Alicante ALC|            morning|           morning|          afternoon|         afternoon|Palma Mall PMI TB...| Alicante ALC TB1101|Antwerp ANRAntwer...|        Brussels BRU|\n",
      "|2019-05-15|         2|     3526|  42|           6|       Ryanair|     Wizz Air|       Ryanair|     Wizz Air|       16.79|      24.99|        8.99|       9.22|           morning|          morning|           evening|        afternoon|Brussels CRLBruss...|       Frankfurt FRA|Milan BGYMilan (B...|        Budapest BUD|            morning|           morning|            evening|           evening|Milan BGYMilan (B...| Budapest BUD W62314|       Frankfurt FRA|Brussels CRLBruss...|\n",
      "|2019-05-15|         2|     3637| 203|           7|       Ryanair|      Ryanair|          none|         none|       28.99|      27.73|        none|       none|         afternoon|          evening|              none|             none|Brussels CRLBruss...|      Thessaloni SKG|                   0|                   0|            evening|           evening|               none|              none|      Thessaloni SKG|Brussels CRLBruss...|                none|                none|\n",
      "|2019-05-15|         2|     3779| 207|           5|       Ryanair|      easyJet|       Ryanair|      Ryanair|       28.99|      15.49|       28.99|      25.85|         afternoon|        afternoon|         afternoon|          evening|Brussels CRLBruss...|      Thessaloni SKG|Brussels CRLBruss...|      Manchester MAN|            evening|         afternoon|            evening|           evening|      Thessaloni SKG|Manchester MAN U2...|      Thessaloni SKG|Brussels CRLBruss...|\n",
      "|2019-05-15|         2|     4728| 193|           5|       Ryanair|     Wizz Air|      Wizz Air|      Ryanair|       20.39|      44.99|       47.43|      19.05|         afternoon|          morning|         afternoon|          evening|Brussels CRLBruss...|Moscow VKOMoscow ...|        Budapest BUD|        Budapest BUD|          afternoon|           morning|            evening|           evening| Budapest BUD FR8416| Budapest BUD W62490|Moscow VKOMoscow ...|Brussels CRLBruss...|\n",
      "+----------+----------+---------+----+------------+--------------+-------------+--------------+-------------+------------+-----------+------------+-----------+------------------+-----------------+------------------+-----------------+--------------------+--------------------+--------------------+--------------------+-------------------+------------------+-------------------+------------------+--------------------+--------------------+--------------------+--------------------+\n",
      "only showing top 20 rows\n",
      "\n"
     ]
    }
   ],
   "source": [
    "dff_final.show()"
   ]
  },
  {
   "cell_type": "code",
   "execution_count": 25,
   "metadata": {},
   "outputs": [
    {
     "name": "stdout",
     "output_type": "stream",
     "text": [
      "+-----------+------------+--------------------+------+------------+----------+--------------------+-----------+-----------+---------+-----+----------+----------+-------------+----+---------------+\n",
      "|    Airline|Arrival_hour|           Arrive_to|Change|Country_from|Country_to|         Depart_from|Depart_hour|Flight_date|Flight_id|Price|Scrap_date|Scrap_time|There_or_Back|Days|Flight_date_val|\n",
      "+-----------+------------+--------------------+------+------------+----------+--------------------+-----------+-----------+---------+-----+----------+----------+-------------+----+---------------+\n",
      "|Laudamotion|     evening|   Krakow KRK OE1304|     1|     Austria|   Austria|          Vienna VIE|    evening|   14/07/19|        1| 9.99|2019-05-15|         2|        There|  60|     1563055200|\n",
      "|Laudamotion|     evening|          Vienna VIE|     1|     Austria|   Austria|          Krakow KRK|    evening|   14/07/19|        1| 9.05|2019-05-15|         2|        There|  60|     1563055200|\n",
      "|Laudamotion|     evening|   Krakow KRK OE1304|     1|     Austria|   Austria|          Vienna VIE|    evening|   21/07/19|        1| 9.99|2019-05-15|         2|         Back|  67|     1563660000|\n",
      "|Laudamotion|     evening|          Vienna VIE|     1|     Austria|   Austria|          Krakow KRK|    evening|   21/07/19|        1|  2.3|2019-05-15|         2|         Back|  67|     1563660000|\n",
      "|Laudamotion|     evening|   Krakow KRK OE1304|     1|     Austria|   Austria|          Vienna VIE|    evening|   21/07/19|        2| 9.99|2019-05-15|         2|        There|  67|     1563660000|\n",
      "|Laudamotion|     evening|          Vienna VIE|     1|     Austria|   Austria|          Krakow KRK|    evening|   21/07/19|        2|  2.3|2019-05-15|         2|        There|  67|     1563660000|\n",
      "|Laudamotion|     evening|   Krakow KRK OE1304|     1|     Austria|   Austria|          Vienna VIE|    evening|   28/07/19|        2| 9.99|2019-05-15|         2|         Back|  74|     1564264800|\n",
      "|Laudamotion|     evening|          Vienna VIE|     1|     Austria|   Austria|          Krakow KRK|    evening|   28/07/19|        2| 9.05|2019-05-15|         2|         Back|  74|     1564264800|\n",
      "|Laudamotion|     evening|   Krakow KRK OE1304|     1|     Austria|   Austria|          Vienna VIE|    evening|   21/07/19|        3| 9.99|2019-05-15|         2|        There|  67|     1563660000|\n",
      "|Laudamotion|     evening|          Vienna VIE|     1|     Austria|   Austria|          Krakow KRK|    evening|   21/07/19|        3|  2.3|2019-05-15|         2|        There|  67|     1563660000|\n",
      "|   Wizz Air|   afternoon|Rome FCORome (Fiu...|     1|     Austria|   Austria|          Vienna VIE|  afternoon|   29/07/19|        3| 9.99|2019-05-15|         2|         Back|  75|     1564351200|\n",
      "|Laudamotion|     evening|          Vienna VIE|     1|     Austria|   Austria|Rome FCORome (Fiu...|    evening|   29/07/19|        3|14.99|2019-05-15|         2|         Back|  75|     1564351200|\n",
      "|Laudamotion|     evening|   Krakow KRK OE1304|     1|     Austria|   Austria|          Vienna VIE|    evening|   09/06/19|        4| 9.99|2019-05-15|         2|        There|  25|     1560031200|\n",
      "|Laudamotion|     evening|          Vienna VIE|     1|     Austria|   Austria|          Krakow KRK|    evening|   09/06/19|        4| 9.05|2019-05-15|         2|        There|  25|     1560031200|\n",
      "|Laudamotion|     evening|   Krakow KRK OE1304|     1|     Austria|   Austria|          Vienna VIE|    evening|   16/06/19|        4| 9.99|2019-05-15|         2|         Back|  32|     1560636000|\n",
      "|Laudamotion|     evening|          Vienna VIE|     1|     Austria|   Austria|          Krakow KRK|    evening|   16/06/19|        4| 9.05|2019-05-15|         2|         Back|  32|     1560636000|\n",
      "|Laudamotion|     evening|   Krakow KRK OE1304|     1|     Austria|   Austria|          Vienna VIE|    evening|   07/07/19|        5| 9.99|2019-05-15|         2|        There|  53|     1562450400|\n",
      "|Laudamotion|     evening|          Vienna VIE|     1|     Austria|   Austria|          Krakow KRK|    evening|   07/07/19|        5| 9.05|2019-05-15|         2|        There|  53|     1562450400|\n",
      "|Laudamotion|     evening|   Krakow KRK OE1304|     1|     Austria|   Austria|          Vienna VIE|    evening|   14/07/19|        5| 9.99|2019-05-15|         2|         Back|  60|     1563055200|\n",
      "|Laudamotion|     evening|          Vienna VIE|     1|     Austria|   Austria|          Krakow KRK|    evening|   14/07/19|        5| 9.05|2019-05-15|         2|         Back|  60|     1563055200|\n",
      "+-----------+------------+--------------------+------+------------+----------+--------------------+-----------+-----------+---------+-----+----------+----------+-------------+----+---------------+\n",
      "only showing top 20 rows\n",
      "\n"
     ]
    }
   ],
   "source": [
    "df.show()"
   ]
  },
  {
   "cell_type": "code",
   "execution_count": null,
   "metadata": {},
   "outputs": [],
   "source": []
  },
  {
   "cell_type": "code",
   "execution_count": 8,
   "metadata": {},
   "outputs": [],
   "source": [
    "df = df.groupBy([\"Scrap_date\", \"Scrap_time\", \"Flight_id\"]).agg(F.first(df.Country_from).alias(\"Country_from\"),\n",
    "                                                               F.first(df.Country_to).alias(\"Country_to\"),\n",
    "                                                               F.first(df.Change).alias(\"Change\"),\n",
    "                                                               (F.last(df.Flight_date_val) - F.first(df.Flight_date_val)).alias('Journey_time'),\n",
    "                                                               F.sum(df.Price).alias(\"Price\")\n",
    "                                                              )"
   ]
  },
  {
   "cell_type": "code",
   "execution_count": 25,
   "metadata": {
    "scrolled": true
   },
   "outputs": [
    {
     "name": "stdout",
     "output_type": "stream",
     "text": [
      "+-----------+------------+-----------+------+------------+----------+-----------+-----------+---------+-----+----------+-------------+----+---------------+\n",
      "|    Airline|Arrival_hour|  Arrive_to|Change|Country_from|Country_to|Depart_from|Depart_hour|Flight_id|Price|Scrap_time|There_or_Back|Days|Flight_date_val|\n",
      "+-----------+------------+-----------+------+------------+----------+-----------+-----------+---------+-----+----------+-------------+----+---------------+\n",
      "|Laudamotion|     morning|   Pisa PSA|     0|     Austria|     Italy| Vienna VIE|    morning|     1536| 9.99|         2|        There|  24|          18055|\n",
      "|Laudamotion|     morning| Vienna VIE|     0|     Austria|     Italy|   Pisa PSA|    morning|     1536| 9.99|         2|         Back|  28|          18059|\n",
      "|Laudamotion|     evening|   Pisa PSA|     0|     Austria|     Italy| Vienna VIE|  afternoon|     1537| 9.99|         2|        There|  33|          18064|\n",
      "|Laudamotion|     evening| Vienna VIE|     0|     Austria|     Italy|   Pisa PSA|    evening|     1537| 9.99|         2|         Back|  40|          18071|\n",
      "|Laudamotion|     evening|   Pisa PSA|     0|     Austria|     Italy| Vienna VIE|  afternoon|     1538| 9.99|         2|        There|  40|          18071|\n",
      "|Laudamotion|     evening| Vienna VIE|     0|     Austria|     Italy|   Pisa PSA|    evening|     1538| 9.99|         2|         Back|  44|          18075|\n",
      "|Laudamotion|     evening|   Pisa PSA|     0|     Austria|     Italy| Vienna VIE|  afternoon|     1539| 9.99|         2|        There|  26|          18057|\n",
      "|Laudamotion|     evening| Vienna VIE|     0|     Austria|     Italy|   Pisa PSA|    evening|     1539| 9.99|         2|         Back|  33|          18064|\n",
      "|Laudamotion|     morning|   Pisa PSA|     0|     Austria|     Italy| Vienna VIE|    morning|     1540| 9.99|         2|        There|  28|          18059|\n",
      "|Laudamotion|     evening| Vienna VIE|     0|     Austria|     Italy|   Pisa PSA|    evening|     1540| 9.99|         2|         Back|  33|          18064|\n",
      "|Laudamotion|     evening|   Pisa PSA|     0|     Austria|     Italy| Vienna VIE|    evening|     1541| 9.99|         2|        There|  37|          18068|\n",
      "|Laudamotion|     morning| Vienna VIE|     0|     Austria|     Italy|   Pisa PSA|    morning|     1541| 9.99|         2|         Back|  42|          18073|\n",
      "|Laudamotion|     evening|   Pisa PSA|     0|     Austria|     Italy| Vienna VIE|    evening|     1542| 9.99|         2|        There|  37|          18068|\n",
      "|Laudamotion|     evening| Vienna VIE|     0|     Austria|     Italy|   Pisa PSA|    evening|     1542| 9.99|         2|         Back|  44|          18075|\n",
      "|Laudamotion|     morning|Bologna BLQ|     0|     Austria|     Italy| Vienna VIE|    morning|     1543| 9.99|         2|        There|  17|          18048|\n",
      "|Laudamotion|     morning| Vienna VIE|     0|     Austria|     Italy|Bologna BLQ|    morning|     1543| 9.99|         2|         Back|  23|          18054|\n",
      "|Laudamotion|     morning|Bologna BLQ|     0|     Austria|     Italy| Vienna VIE|    morning|     1544| 9.99|         2|        There|  31|          18062|\n",
      "|Laudamotion|     morning| Vienna VIE|     0|     Austria|     Italy|Bologna BLQ|    morning|     1544| 9.99|         2|         Back|  38|          18069|\n",
      "|Laudamotion|     morning|Bologna BLQ|     0|     Austria|     Italy| Vienna VIE|    morning|     1545| 9.99|         2|        There|   2|          18033|\n",
      "|Laudamotion|     morning| Vienna VIE|     0|     Austria|     Italy|Bologna BLQ|    morning|     1545| 9.99|         2|         Back|   9|          18040|\n",
      "+-----------+------------+-----------+------+------------+----------+-----------+-----------+---------+-----+----------+-------------+----+---------------+\n",
      "only showing top 20 rows\n",
      "\n"
     ]
    }
   ],
   "source": [
    "df.show()"
   ]
  },
  {
   "cell_type": "code",
   "execution_count": 50,
   "metadata": {},
   "outputs": [
    {
     "name": "stdout",
     "output_type": "stream",
     "text": [
      "+-----+---+\n",
      "|Count|Max|\n",
      "+-----+---+\n",
      "|    1|  1|\n",
      "|    2|  2|\n",
      "+-----+---+\n",
      "\n"
     ]
    }
   ],
   "source": [
    "d = df.groupBy([\"Scrap_date\", \"Scrap_time\", \"Flight_id\", \"There_or_Back\"]).agg(F.count('Price').alias('Count'))\n",
    "d.groupBy('Count').agg(F.max('Count').alias('Max')).show()\n"
   ]
  },
  {
   "cell_type": "code",
   "execution_count": 68,
   "metadata": {},
   "outputs": [
    {
     "name": "stdout",
     "output_type": "stream",
     "text": [
      "+-----+------+\n",
      "|Count| count|\n",
      "+-----+------+\n",
      "|    3|159202|\n",
      "|    2|277691|\n",
      "|    4|247142|\n",
      "+-----+------+\n",
      "\n"
     ]
    }
   ],
   "source": [
    "d = df.groupBy([\"Scrap_date\", \"Scrap_time\", \"Flight_id\"]).agg(F.count('Price').alias('Count'))\n",
    "d.groupBy('Count').count().show()"
   ]
  },
  {
   "cell_type": "code",
   "execution_count": 10,
   "metadata": {},
   "outputs": [
    {
     "name": "stdout",
     "output_type": "stream",
     "text": [
      "+----------+----------+---------+-----+\n",
      "|Scrap_date|Scrap_time|Flight_id|Count|\n",
      "+----------+----------+---------+-----+\n",
      "|2019-05-15|         2|       72|    4|\n",
      "|2019-05-15|         2|       82|    4|\n",
      "|2019-05-15|         2|      112|    4|\n",
      "|2019-05-15|         2|      129|    4|\n",
      "|2019-05-15|         2|      314|    3|\n",
      "|2019-05-15|         2|      516|    3|\n",
      "|2019-05-15|         2|      970|    3|\n",
      "|2019-05-15|         2|     1036|    2|\n",
      "|2019-05-15|         2|     1225|    2|\n",
      "|2019-05-15|         2|     1410|    4|\n",
      "|2019-05-15|         2|     2030|    3|\n",
      "|2019-05-15|         2|     2213|    4|\n",
      "|2019-05-15|         2|     2395|    2|\n",
      "|2019-05-15|         2|     2615|    4|\n",
      "|2019-05-15|         2|     2659|    4|\n",
      "|2019-05-15|         2|     2759|    4|\n",
      "|2019-05-15|         2|     3526|    4|\n",
      "|2019-05-15|         2|     3637|    2|\n",
      "|2019-05-15|         2|     3779|    3|\n",
      "|2019-05-15|         2|     4728|    4|\n",
      "+----------+----------+---------+-----+\n",
      "only showing top 20 rows\n",
      "\n"
     ]
    }
   ],
   "source": [
    "d.show()"
   ]
  },
  {
   "cell_type": "code",
   "execution_count": null,
   "metadata": {},
   "outputs": [],
   "source": [
    "dff_final = dff.groupBy([\"Scrap_date\", \"Scrap_time\", \"Flight_id\"]).agg(\n",
    "F.when(F.first(dff.There_or_back) == 'There', F.first(dff.Airline1)).otherwise(F.last(dff.Airline1)).alias('Airline1_There'),\n",
    "F.when(F.first(dff.There_or_back) == 'Back', F.first(dff.Airline1)).otherwise(F.last(dff.Airline1)).alias('Airline1_Back'),\n",
    "F.when(F.first(dff.There_or_back) == 'There', F.first(dff.Airline2)).otherwise(F.last(dff.Airline2)).alias('Airline2_There'),\n",
    "F.when(F.first(dff.There_or_back) == 'Back', F.first(dff.Airline2)).otherwise(F.last(dff.Airline2)).alias('Airline1_Back'),\n",
    "F.when(F.first(dff.There_or_back) == 'There', F.first(dff.Price1)).otherwise(F.last(dff.Price1)).alias('Price1_There'),\n",
    "F.when(F.first(dff.There_or_back) == 'Back', F.first(dff.Price1)).otherwise(F.last(dff.Price1)).alias('Price1_Back'),\n",
    "F.when(F.first(dff.There_or_back) == 'There', F.first(dff.Price2)).otherwise(F.last(dff.Price2)).alias('Price2_There'),\n",
    "F.when(F.first(dff.There_or_back) == 'Back', F.first(dff.Price2)).otherwise(F.last(dff.Price2)).alias('Price2_Back')\n",
    ")"
   ]
  }
 ],
 "metadata": {
  "kernelspec": {
   "display_name": "Python 3",
   "language": "python",
   "name": "python3"
  },
  "language_info": {
   "codemirror_mode": {
    "name": "ipython",
    "version": 3
   },
   "file_extension": ".py",
   "mimetype": "text/x-python",
   "name": "python",
   "nbconvert_exporter": "python",
   "pygments_lexer": "ipython3",
   "version": "3.6.8"
  }
 },
 "nbformat": 4,
 "nbformat_minor": 2
}
