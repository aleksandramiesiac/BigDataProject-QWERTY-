{
 "cells": [
  {
   "cell_type": "code",
   "execution_count": 9,
   "metadata": {},
   "outputs": [],
   "source": [
    "import pysftp\n",
    "import io"
   ]
  },
  {
   "cell_type": "code",
   "execution_count": 2,
   "metadata": {},
   "outputs": [],
   "source": [
    "myHostname = \"35.198.129.65\"\n",
    "myUsername = \"sftpuser\"\n",
    "myPassword = \"bigdata123\"\n",
    "cnopts = pysftp.CnOpts()\n",
    "cnopts.hostkeys = None"
   ]
  },
  {
   "cell_type": "code",
   "execution_count": 15,
   "metadata": {},
   "outputs": [
    {
     "name": "stdout",
     "output_type": "stream",
     "text": [
      "Connection succesfully stablished ... \n",
      "2019-05-05.txt -rw-r--r--   1 1001     1002       331025 06 May 00:45 2019-05-05.txt\n",
      "2019-05-06.txt -rw-r--r--   1 1001     1002      9489217 07 May 03:01 2019-05-06.txt\n",
      "2019-05-07.txt -rw-r--r--   1 1001     1002      8463961 08 May 03:09 2019-05-07.txt\n",
      "2019-05-08.txt -rw-r--r--   1 1001     1002      6429968 08 May 19:22 2019-05-08.txt\n"
     ]
    }
   ],
   "source": [
    "# Wyswietlanie listy plikow z zescrapowanymi danymi\n",
    "\n",
    "with pysftp.Connection(host = myHostname, username = myUsername, password = myPassword, cnopts = cnopts) as sftp:\n",
    "    print(\"Connection succesfully stablished ... \")\n",
    "\n",
    "    # Switch to a remote directory\n",
    "    sftp.cwd('/home/sftpuser/BigDataProject/flight_prices/')\n",
    "    # Obtain structure of the remote directory '/home/sftpuser/BigDataProject/flight_prices/'\n",
    "    directory_structure = sftp.listdir_attr()\n",
    "\n",
    "    # Print data\n",
    "    for attr in directory_structure:\n",
    "        print(attr.filename, attr)\n",
    "    \n",
    "# connection closed automatically at the end of the with-block"
   ]
  },
  {
   "cell_type": "code",
   "execution_count": 5,
   "metadata": {},
   "outputs": [
    {
     "name": "stdout",
     "output_type": "stream",
     "text": [
      "Connection succesfully stablished ... \n"
     ]
    }
   ],
   "source": [
    "# Pobieranie pliku\n",
    "\n",
    "with pysftp.Connection(host = myHostname, username = myUsername, password = myPassword, cnopts = cnopts) as sftp:\n",
    "    print(\"Connection succesfully stablished ... \")\n",
    "\n",
    "    # Define the file that you want to download from the remote directory\n",
    "    remoteFilePath = '/home/sftpuser/BigDataProject/flight_prices/2019-05-06.txt'\n",
    "\n",
    "    # Define the local path where the file will be saved or absolute\n",
    "    localFilePath = './2019-05-06.txt'\n",
    "\n",
    "    sftp.get(remoteFilePath, localFilePath)\n",
    "    \n",
    "# connection closed automatically at the end of the with-block"
   ]
  },
  {
   "cell_type": "code",
   "execution_count": 16,
   "metadata": {},
   "outputs": [
    {
     "name": "stdout",
     "output_type": "stream",
     "text": [
      "Connection succesfully stablished ... \n"
     ]
    }
   ],
   "source": [
    "# Ladowanie pliku do zmiennej\n",
    "\n",
    "with pysftp.Connection(host = myHostname, username = myUsername, password = myPassword, cnopts = cnopts) as sftp:\n",
    "    print(\"Connection succesfully stablished ... \")\n",
    "\n",
    "    # Define the file that you want to download from the remote directory\n",
    "    remoteFilePath = '/home/sftpuser/BigDataProject/flight_prices/2019-05-06.txt'\n",
    "    \n",
    "    f = io.BytesIO()\n",
    "    sftp.getfo(remoteFilePath, f)\n",
    "    \n",
    "    # nie wiem czy to jest ok"
   ]
  }
 ],
 "metadata": {
  "kernelspec": {
   "display_name": "Python 3",
   "language": "python",
   "name": "python3"
  },
  "language_info": {
   "codemirror_mode": {
    "name": "ipython",
    "version": 3
   },
   "file_extension": ".py",
   "mimetype": "text/x-python",
   "name": "python",
   "nbconvert_exporter": "python",
   "pygments_lexer": "ipython3",
   "version": "3.7.0"
  }
 },
 "nbformat": 4,
 "nbformat_minor": 2
}
